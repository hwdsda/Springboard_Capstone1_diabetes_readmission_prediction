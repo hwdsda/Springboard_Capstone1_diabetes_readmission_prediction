{
 "cells": [
  {
   "cell_type": "markdown",
   "metadata": {},
   "source": [
    "### 1. Objective"
   ]
  },
  {
   "cell_type": "markdown",
   "metadata": {},
   "source": [
    "The objective of this notebook is to clean up the data before further inferential statistical analysis and data modeling. The steps include checking missing values and outliers, examining variable types and encoding."
   ]
  },
  {
   "cell_type": "code",
   "execution_count": 1,
   "metadata": {},
   "outputs": [],
   "source": [
    "import numpy as np\n",
    "import pandas as pd\n",
    "import seaborn as sns\n",
    "import matplotlib.pyplot as plt\n",
    "%matplotlib inline"
   ]
  },
  {
   "cell_type": "markdown",
   "metadata": {},
   "source": [
    "### 2. Load data and data conversion"
   ]
  },
  {
   "cell_type": "markdown",
   "metadata": {},
   "source": [
    "There are **?** in the data set. Those values will be converted to NaN (missing values). In `gender`, there are **Unknown/Invalid** values which will be converted to NaN too."
   ]
  },
  {
   "cell_type": "code",
   "execution_count": 2,
   "metadata": {},
   "outputs": [
    {
     "data": {
      "text/plain": [
       "(101766, 50)"
      ]
     },
     "execution_count": 2,
     "metadata": {},
     "output_type": "execute_result"
    }
   ],
   "source": [
    "df = pd.read_csv('./data/diabetic_data.csv', header=0)\n",
    "\n",
    "# Replace “?” and “Unknown/Invalid” with NaN\n",
    "replace_values = {'?': np.nan,\n",
    "                 'Unknown/Invalid': np.nan}\n",
    "df.replace(replace_values, inplace=True)\n",
    "df.shape"
   ]
  },
  {
   "cell_type": "markdown",
   "metadata": {},
   "source": [
    "The preliminary dataset contained multiple inpatient visits for some patients and the observations could not be considered as statistically independent, an assumption of the logistic regression model. We thus used only one encounter per patient; in particular, we considered only the first encounter for each patient as the primary admission and determined whether or not they were readmitted within 30 days. Additionally, we removed all encounters that resulted in either discharge to a hospice or patient death, to avoid biasing our analysis."
   ]
  },
  {
   "cell_type": "code",
   "execution_count": 3,
   "metadata": {},
   "outputs": [
    {
     "data": {
      "text/plain": [
       "(71050, 50)"
      ]
     },
     "execution_count": 3,
     "metadata": {},
     "output_type": "execute_result"
    }
   ],
   "source": [
    "df = df.sort_values(by=['patient_nbr', 'encounter_id'], ascending=[1,1])\n",
    "df.drop_duplicates(subset='patient_nbr', keep='first', inplace=True)\n",
    "df = df[~df.discharge_disposition_id.isin([13,14,19,20,21])] # remove discharge to a hospice or patient death (id 13,14,19,20,21)\n",
    "df.shape"
   ]
  },
  {
   "cell_type": "code",
   "execution_count": 4,
   "metadata": {
    "scrolled": true
   },
   "outputs": [
    {
     "name": "stdout",
     "output_type": "stream",
     "text": [
      "<class 'pandas.core.frame.DataFrame'>\n",
      "Int64Index: 71050 entries, 4267 to 96147\n",
      "Data columns (total 50 columns):\n",
      "encounter_id                71050 non-null int64\n",
      "patient_nbr                 71050 non-null int64\n",
      "race                        69105 non-null object\n",
      "gender                      71047 non-null object\n",
      "age                         71050 non-null object\n",
      "weight                      2827 non-null object\n",
      "admission_type_id           71050 non-null int64\n",
      "discharge_disposition_id    71050 non-null int64\n",
      "admission_source_id         71050 non-null int64\n",
      "time_in_hospital            71050 non-null int64\n",
      "payer_code                  40145 non-null object\n",
      "medical_specialty           36871 non-null object\n",
      "num_lab_procedures          71050 non-null int64\n",
      "num_procedures              71050 non-null int64\n",
      "num_medications             71050 non-null int64\n",
      "number_outpatient           71050 non-null int64\n",
      "number_emergency            71050 non-null int64\n",
      "number_inpatient            71050 non-null int64\n",
      "diag_1                      71040 non-null object\n",
      "diag_2                      70757 non-null object\n",
      "diag_3                      69826 non-null object\n",
      "number_diagnoses            71050 non-null int64\n",
      "max_glu_serum               71050 non-null object\n",
      "A1Cresult                   71050 non-null object\n",
      "metformin                   71050 non-null object\n",
      "repaglinide                 71050 non-null object\n",
      "nateglinide                 71050 non-null object\n",
      "chlorpropamide              71050 non-null object\n",
      "glimepiride                 71050 non-null object\n",
      "acetohexamide               71050 non-null object\n",
      "glipizide                   71050 non-null object\n",
      "glyburide                   71050 non-null object\n",
      "tolbutamide                 71050 non-null object\n",
      "pioglitazone                71050 non-null object\n",
      "rosiglitazone               71050 non-null object\n",
      "acarbose                    71050 non-null object\n",
      "miglitol                    71050 non-null object\n",
      "troglitazone                71050 non-null object\n",
      "tolazamide                  71050 non-null object\n",
      "examide                     71050 non-null object\n",
      "citoglipton                 71050 non-null object\n",
      "insulin                     71050 non-null object\n",
      "glyburide-metformin         71050 non-null object\n",
      "glipizide-metformin         71050 non-null object\n",
      "glimepiride-pioglitazone    71050 non-null object\n",
      "metformin-rosiglitazone     71050 non-null object\n",
      "metformin-pioglitazone      71050 non-null object\n",
      "change                      71050 non-null object\n",
      "diabetesMed                 71050 non-null object\n",
      "readmitted                  71050 non-null object\n",
      "dtypes: int64(13), object(37)\n",
      "memory usage: 27.6+ MB\n"
     ]
    }
   ],
   "source": [
    "df.info()"
   ]
  },
  {
   "cell_type": "markdown",
   "metadata": {},
   "source": [
    "### 3. Re-label the response variable"
   ]
  },
  {
   "cell_type": "markdown",
   "metadata": {},
   "source": [
    "The current response variable 'readmitted' has 3 categories: `<30`, `>30` and `NO`. This study is interested in those patients that are readmitted within 30 days after discharge. Then, the `<30` category was coded as 1, other two categories were coded as 0. "
   ]
  },
  {
   "cell_type": "code",
   "execution_count": 5,
   "metadata": {},
   "outputs": [
    {
     "data": {
      "text/plain": [
       "readmitted\n",
       "<30     6277\n",
       ">30    22222\n",
       "NO     42551\n",
       "dtype: int64"
      ]
     },
     "execution_count": 5,
     "metadata": {},
     "output_type": "execute_result"
    }
   ],
   "source": [
    "# count the number of rows for each readmitted type\n",
    "df.groupby('readmitted').size()"
   ]
  },
  {
   "cell_type": "code",
   "execution_count": 6,
   "metadata": {},
   "outputs": [],
   "source": [
    "# create a new variable LABEL\n",
    "df['LABEL'] = (df.readmitted == '<30').astype('int')\n",
    "df['LABEL'] = df['LABEL'].astype('object')\n",
    "df.drop('readmitted', axis=1, inplace=True)"
   ]
  },
  {
   "cell_type": "code",
   "execution_count": 7,
   "metadata": {
    "scrolled": false
   },
   "outputs": [
    {
     "data": {
      "text/plain": [
       "6277"
      ]
     },
     "execution_count": 7,
     "metadata": {},
     "output_type": "execute_result"
    }
   ],
   "source": [
    "sum(df.LABEL == 1)"
   ]
  },
  {
   "cell_type": "markdown",
   "metadata": {},
   "source": [
    "### 4. Check missing values"
   ]
  },
  {
   "cell_type": "markdown",
   "metadata": {},
   "source": [
    "Check the percentage of missing values for each variable and observation. Three variables have `>39%` missing values: `weight`, `medical_specialty` and `payer_code`. Other variables have `<3%` missing values. The variable `weight` with `>50%` missing values were dropped. Before dropping variables, the highest percentage of missing values in observations is `10%`. This number decreases to `8%` after dropping variables. Currently keep the observations with missing values."
   ]
  },
  {
   "cell_type": "code",
   "execution_count": 8,
   "metadata": {
    "scrolled": true
   },
   "outputs": [
    {
     "data": {
      "text/plain": [
       "weight               96.021112\n",
       "medical_specialty    48.105559\n",
       "payer_code           43.497537\n",
       "race                  2.737509\n",
       "diag_3                1.722730\n",
       "diag_2                0.412386\n",
       "diag_1                0.014075\n",
       "gender                0.004222\n",
       "num_medications       0.000000\n",
       "max_glu_serum         0.000000\n",
       "dtype: float64"
      ]
     },
     "execution_count": 8,
     "metadata": {},
     "output_type": "execute_result"
    }
   ],
   "source": [
    "# check missing values in columns\n",
    "(df.isnull().sum()*100/df.shape[0]).sort_values(ascending=False)[:10]"
   ]
  },
  {
   "cell_type": "code",
   "execution_count": 9,
   "metadata": {},
   "outputs": [
    {
     "data": {
      "image/png": "[encoded data removed]",
      "text/plain": [
       "<Figure size 720x576 with 1 Axes>"
      ]
     },
     "metadata": {
      "needs_background": "light"
     },
     "output_type": "display_data"
    }
   ],
   "source": [
    "# plot the missing data\n",
    "plt.figure(figsize=(10,8))\n",
    "missing = pd.DataFrame({'column':df.columns ,'na_percent':df.isnull().sum()/len(df)*100})\n",
    "missing.sort_values('na_percent',inplace=True)\n",
    "plt.barh(missing['column'], width=missing['na_percent'])\n",
    "plt.xlabel('Percentage of Missing')\n",
    "plt.title('Barplot of Missing Value Percentages by Variables')\n",
    "plt.show()"
   ]
  },
  {
   "cell_type": "code",
   "execution_count": 10,
   "metadata": {
    "scrolled": true
   },
   "outputs": [
    {
     "data": {
      "text/plain": [
       "23737    10.0\n",
       "29864    10.0\n",
       "15444    10.0\n",
       "81437    10.0\n",
       "46031    10.0\n",
       "24636    10.0\n",
       "2163     10.0\n",
       "23475    10.0\n",
       "9351     10.0\n",
       "66       10.0\n",
       "48002    10.0\n",
       "15752    10.0\n",
       "6538     10.0\n",
       "2794     10.0\n",
       "3927     10.0\n",
       "23870    10.0\n",
       "14355    10.0\n",
       "7160     10.0\n",
       "48361    10.0\n",
       "8454     10.0\n",
       "62371    10.0\n",
       "14851    10.0\n",
       "11893    10.0\n",
       "54358    10.0\n",
       "14025     8.0\n",
       "7751      8.0\n",
       "12452     8.0\n",
       "4727      8.0\n",
       "1555      8.0\n",
       "62496     8.0\n",
       "dtype: float64"
      ]
     },
     "execution_count": 10,
     "metadata": {},
     "output_type": "execute_result"
    }
   ],
   "source": [
    "# check missing values in rows\n",
    "(df.isnull().sum(axis=1)*100/df.shape[1]).sort_values(ascending=False)[:30]"
   ]
  },
  {
   "cell_type": "code",
   "execution_count": 11,
   "metadata": {},
   "outputs": [],
   "source": [
    "# dropping columns with high NA percentage (>30%)\n",
    "df.drop(['weight', 'medical_specialty', 'payer_code'], axis=1, inplace=True)"
   ]
  },
  {
   "cell_type": "code",
   "execution_count": 12,
   "metadata": {
    "scrolled": true
   },
   "outputs": [
    {
     "data": {
      "text/plain": [
       "28588    6.382979\n",
       "28054    6.382979\n",
       "81437    6.382979\n",
       "27557    6.382979\n",
       "34145    6.382979\n",
       "32389    6.382979\n",
       "29358    6.382979\n",
       "67136    6.382979\n",
       "29864    6.382979\n",
       "25157    6.382979\n",
       "36050    6.382979\n",
       "27815    6.382979\n",
       "23737    6.382979\n",
       "33771    6.382979\n",
       "26802    4.255319\n",
       "25481    4.255319\n",
       "19312    4.255319\n",
       "18434    4.255319\n",
       "9284     4.255319\n",
       "32819    4.255319\n",
       "dtype: float64"
      ]
     },
     "execution_count": 12,
     "metadata": {},
     "output_type": "execute_result"
    }
   ],
   "source": [
    "# check missing values in rows after dropping columns\n",
    "(df.isnull().sum(axis=1)*100/df.shape[1]).sort_values(ascending=False)[:20]"
   ]
  },
  {
   "cell_type": "code",
   "execution_count": 13,
   "metadata": {
    "scrolled": true
   },
   "outputs": [
    {
     "data": {
      "text/plain": [
       "(71050, 47)"
      ]
     },
     "execution_count": 13,
     "metadata": {},
     "output_type": "execute_result"
    }
   ],
   "source": [
    "df.shape"
   ]
  },
  {
   "cell_type": "markdown",
   "metadata": {},
   "source": [
    "### 5. Check outliers (numerical variables)"
   ]
  },
  {
   "cell_type": "markdown",
   "metadata": {},
   "source": [
    "There are 8 numerical varaibles that will be check for outliers. There are no missing values but there are outliers in those 8 variables according to the boxplot of each numerical variable. Currently keep all those outliers in each variable"
   ]
  },
  {
   "cell_type": "code",
   "execution_count": 14,
   "metadata": {},
   "outputs": [],
   "source": [
    "vars_num = ['time_in_hospital', 'num_procedures', 'number_diagnoses', 'num_medications', \n",
    "            'number_outpatient', 'number_inpatient','number_emergency', 'num_lab_procedures']"
   ]
  },
  {
   "cell_type": "code",
   "execution_count": 15,
   "metadata": {},
   "outputs": [
    {
     "data": {
      "text/plain": [
       "time_in_hospital      0\n",
       "num_procedures        0\n",
       "number_diagnoses      0\n",
       "num_medications       0\n",
       "number_outpatient     0\n",
       "number_inpatient      0\n",
       "number_emergency      0\n",
       "num_lab_procedures    0\n",
       "dtype: int64"
      ]
     },
     "execution_count": 15,
     "metadata": {},
     "output_type": "execute_result"
    }
   ],
   "source": [
    "# there are no missing values in those 8 numerical varialbes\n",
    "df[vars_num].isnull().sum()"
   ]
  },
  {
   "cell_type": "code",
   "execution_count": 16,
   "metadata": {},
   "outputs": [],
   "source": [
    "# a function to boxplot numerical columns\n",
    "def bplot(df, cols):\n",
    "    bpltdat = pd.melt(df, id_vars=['encounter_id'], \n",
    "                      value_vars = cols)\n",
    "    bplot = sns.boxplot(y='value', x='variable', \n",
    "                        data=bpltdat, width=0.5, \n",
    "                        palette=\"colorblind\")\n",
    "    bplot.set_title('Boxplot of ' + ', '.join(cols))\n",
    "    bplot.set_xlabel('')\n",
    "    plt.show()"
   ]
  },
  {
   "cell_type": "code",
   "execution_count": 17,
   "metadata": {
    "scrolled": true
   },
   "outputs": [
    {
     "data": {
      "image/png": "[encoded data removed]",
      "text/plain": [
       "<Figure size 432x288 with 1 Axes>"
      ]
     },
     "metadata": {
      "needs_background": "light"
     },
     "output_type": "display_data"
    }
   ],
   "source": [
    "bplot(df, ['time_in_hospital', 'num_procedures', 'number_diagnoses'])"
   ]
  },
  {
   "cell_type": "code",
   "execution_count": 18,
   "metadata": {
    "scrolled": true
   },
   "outputs": [
    {
     "data": {
      "image/png": "[encoded data removed]",
      "text/plain": [
       "<Figure size 432x288 with 1 Axes>"
      ]
     },
     "metadata": {
      "needs_background": "light"
     },
     "output_type": "display_data"
    }
   ],
   "source": [
    "bplot(df, ['num_medications', 'num_lab_procedures'])"
   ]
  },
  {
   "cell_type": "code",
   "execution_count": 19,
   "metadata": {
    "scrolled": true
   },
   "outputs": [
    {
     "data": {
      "image/png": "[encoded data removed]",
      "text/plain": [
       "<Figure size 432x288 with 1 Axes>"
      ]
     },
     "metadata": {
      "needs_background": "light"
     },
     "output_type": "display_data"
    }
   ],
   "source": [
    "bplot(df, ['number_outpatient', 'number_inpatient','number_emergency'])"
   ]
  },
  {
   "cell_type": "markdown",
   "metadata": {},
   "source": [
    "### 6. Examine categorical variables"
   ]
  },
  {
   "cell_type": "markdown",
   "metadata": {},
   "source": [
    "There are several types of categorical variables:\n",
    " - `race`, `gender`, `age`. Those are basic demographic information.\n",
    " - `admission_type_id`, `discharge_disposition_id`, `admission_source_id` are numerical but they are IDs and should be treated as categorical.\n",
    " - `diag_1`, `diag_2`, `diag_3` have several hundred distinct values. Those could be dropped for analysis. Those diagnose information are partly captured in numerical variable `number_diagnoses`.\n",
    " - `max_glu_serum`, `A1Cresult`. Special lab test results.\n",
    " - 23 generic medications and a special one `diabetesMed`. `change` is a binary variable indicating whether there was a change in diabetic medications (either dosage or generic name)."
   ]
  },
  {
   "cell_type": "markdown",
   "metadata": {},
   "source": [
    "`age` is a categorical variable but in order. It is better to covert it to numerical variable."
   ]
  },
  {
   "cell_type": "code",
   "execution_count": 20,
   "metadata": {},
   "outputs": [],
   "source": [
    "df['age'] = df['age'].str[1:].str.split('-', expand=True)[0]\n",
    "#df['age'] = df['age'].astype(int)"
   ]
  },
  {
   "cell_type": "code",
   "execution_count": 21,
   "metadata": {
    "scrolled": true
   },
   "outputs": [],
   "source": [
    "# convert numerical varialbes to categorical variable\n",
    "df[['admission_type_id', 'discharge_disposition_id', 'admission_source_id']] = df[['admission_type_id', 'discharge_disposition_id', 'admission_source_id']].astype('object')"
   ]
  },
  {
   "cell_type": "code",
   "execution_count": 22,
   "metadata": {
    "scrolled": true
   },
   "outputs": [],
   "source": [
    "vars_cat = df.columns.values[(df.dtypes == 'object').values]"
   ]
  },
  {
   "cell_type": "code",
   "execution_count": 23,
   "metadata": {},
   "outputs": [],
   "source": [
    "def get_cat_levels(col):\n",
    "    return pd.DataFrame({'Variable': [col], 'Levels': [len(df[col].unique())]})"
   ]
  },
  {
   "cell_type": "code",
   "execution_count": 24,
   "metadata": {
    "scrolled": false
   },
   "outputs": [
    {
     "data": {
      "text/html": [
       "<div>\n",
       "<style scoped>\n",
       "    .dataframe tbody tr th:only-of-type {\n",
       "        vertical-align: middle;\n",
       "    }\n",
       "\n",
       "    .dataframe tbody tr th {\n",
       "        vertical-align: top;\n",
       "    }\n",
       "\n",
       "    .dataframe thead th {\n",
       "        text-align: right;\n",
       "    }\n",
       "</style>\n",
       "<table border=\"1\" class=\"dataframe\">\n",
       "  <thead>\n",
       "    <tr style=\"text-align: right;\">\n",
       "      <th></th>\n",
       "      <th>Variable</th>\n",
       "      <th>Levels</th>\n",
       "    </tr>\n",
       "  </thead>\n",
       "  <tbody>\n",
       "    <tr>\n",
       "      <th>0</th>\n",
       "      <td>diag_3</td>\n",
       "      <td>758</td>\n",
       "    </tr>\n",
       "    <tr>\n",
       "      <th>0</th>\n",
       "      <td>diag_2</td>\n",
       "      <td>726</td>\n",
       "    </tr>\n",
       "    <tr>\n",
       "      <th>0</th>\n",
       "      <td>diag_1</td>\n",
       "      <td>696</td>\n",
       "    </tr>\n",
       "    <tr>\n",
       "      <th>0</th>\n",
       "      <td>discharge_disposition_id</td>\n",
       "      <td>22</td>\n",
       "    </tr>\n",
       "    <tr>\n",
       "      <th>0</th>\n",
       "      <td>admission_source_id</td>\n",
       "      <td>17</td>\n",
       "    </tr>\n",
       "    <tr>\n",
       "      <th>0</th>\n",
       "      <td>age</td>\n",
       "      <td>10</td>\n",
       "    </tr>\n",
       "    <tr>\n",
       "      <th>0</th>\n",
       "      <td>admission_type_id</td>\n",
       "      <td>8</td>\n",
       "    </tr>\n",
       "    <tr>\n",
       "      <th>0</th>\n",
       "      <td>race</td>\n",
       "      <td>6</td>\n",
       "    </tr>\n",
       "    <tr>\n",
       "      <th>0</th>\n",
       "      <td>glimepiride</td>\n",
       "      <td>4</td>\n",
       "    </tr>\n",
       "    <tr>\n",
       "      <th>0</th>\n",
       "      <td>glyburide-metformin</td>\n",
       "      <td>4</td>\n",
       "    </tr>\n",
       "    <tr>\n",
       "      <th>0</th>\n",
       "      <td>insulin</td>\n",
       "      <td>4</td>\n",
       "    </tr>\n",
       "    <tr>\n",
       "      <th>0</th>\n",
       "      <td>miglitol</td>\n",
       "      <td>4</td>\n",
       "    </tr>\n",
       "    <tr>\n",
       "      <th>0</th>\n",
       "      <td>rosiglitazone</td>\n",
       "      <td>4</td>\n",
       "    </tr>\n",
       "    <tr>\n",
       "      <th>0</th>\n",
       "      <td>pioglitazone</td>\n",
       "      <td>4</td>\n",
       "    </tr>\n",
       "    <tr>\n",
       "      <th>0</th>\n",
       "      <td>glipizide</td>\n",
       "      <td>4</td>\n",
       "    </tr>\n",
       "    <tr>\n",
       "      <th>0</th>\n",
       "      <td>glyburide</td>\n",
       "      <td>4</td>\n",
       "    </tr>\n",
       "    <tr>\n",
       "      <th>0</th>\n",
       "      <td>nateglinide</td>\n",
       "      <td>4</td>\n",
       "    </tr>\n",
       "    <tr>\n",
       "      <th>0</th>\n",
       "      <td>repaglinide</td>\n",
       "      <td>4</td>\n",
       "    </tr>\n",
       "    <tr>\n",
       "      <th>0</th>\n",
       "      <td>metformin</td>\n",
       "      <td>4</td>\n",
       "    </tr>\n",
       "    <tr>\n",
       "      <th>0</th>\n",
       "      <td>chlorpropamide</td>\n",
       "      <td>4</td>\n",
       "    </tr>\n",
       "    <tr>\n",
       "      <th>0</th>\n",
       "      <td>A1Cresult</td>\n",
       "      <td>4</td>\n",
       "    </tr>\n",
       "    <tr>\n",
       "      <th>0</th>\n",
       "      <td>max_glu_serum</td>\n",
       "      <td>4</td>\n",
       "    </tr>\n",
       "    <tr>\n",
       "      <th>0</th>\n",
       "      <td>gender</td>\n",
       "      <td>3</td>\n",
       "    </tr>\n",
       "    <tr>\n",
       "      <th>0</th>\n",
       "      <td>acarbose</td>\n",
       "      <td>3</td>\n",
       "    </tr>\n",
       "    <tr>\n",
       "      <th>0</th>\n",
       "      <td>acetohexamide</td>\n",
       "      <td>2</td>\n",
       "    </tr>\n",
       "    <tr>\n",
       "      <th>0</th>\n",
       "      <td>glipizide-metformin</td>\n",
       "      <td>2</td>\n",
       "    </tr>\n",
       "    <tr>\n",
       "      <th>0</th>\n",
       "      <td>diabetesMed</td>\n",
       "      <td>2</td>\n",
       "    </tr>\n",
       "    <tr>\n",
       "      <th>0</th>\n",
       "      <td>change</td>\n",
       "      <td>2</td>\n",
       "    </tr>\n",
       "    <tr>\n",
       "      <th>0</th>\n",
       "      <td>metformin-pioglitazone</td>\n",
       "      <td>2</td>\n",
       "    </tr>\n",
       "    <tr>\n",
       "      <th>0</th>\n",
       "      <td>metformin-rosiglitazone</td>\n",
       "      <td>2</td>\n",
       "    </tr>\n",
       "    <tr>\n",
       "      <th>0</th>\n",
       "      <td>LABEL</td>\n",
       "      <td>2</td>\n",
       "    </tr>\n",
       "    <tr>\n",
       "      <th>0</th>\n",
       "      <td>tolazamide</td>\n",
       "      <td>2</td>\n",
       "    </tr>\n",
       "    <tr>\n",
       "      <th>0</th>\n",
       "      <td>troglitazone</td>\n",
       "      <td>2</td>\n",
       "    </tr>\n",
       "    <tr>\n",
       "      <th>0</th>\n",
       "      <td>tolbutamide</td>\n",
       "      <td>2</td>\n",
       "    </tr>\n",
       "    <tr>\n",
       "      <th>0</th>\n",
       "      <td>glimepiride-pioglitazone</td>\n",
       "      <td>1</td>\n",
       "    </tr>\n",
       "    <tr>\n",
       "      <th>0</th>\n",
       "      <td>citoglipton</td>\n",
       "      <td>1</td>\n",
       "    </tr>\n",
       "    <tr>\n",
       "      <th>0</th>\n",
       "      <td>examide</td>\n",
       "      <td>1</td>\n",
       "    </tr>\n",
       "  </tbody>\n",
       "</table>\n",
       "</div>"
      ],
      "text/plain": [
       "                   Variable  Levels\n",
       "0                    diag_3     758\n",
       "0                    diag_2     726\n",
       "0                    diag_1     696\n",
       "0  discharge_disposition_id      22\n",
       "0       admission_source_id      17\n",
       "0                       age      10\n",
       "0         admission_type_id       8\n",
       "0                      race       6\n",
       "0               glimepiride       4\n",
       "0       glyburide-metformin       4\n",
       "0                   insulin       4\n",
       "0                  miglitol       4\n",
       "0             rosiglitazone       4\n",
       "0              pioglitazone       4\n",
       "0                 glipizide       4\n",
       "0                 glyburide       4\n",
       "0               nateglinide       4\n",
       "0               repaglinide       4\n",
       "0                 metformin       4\n",
       "0            chlorpropamide       4\n",
       "0                 A1Cresult       4\n",
       "0             max_glu_serum       4\n",
       "0                    gender       3\n",
       "0                  acarbose       3\n",
       "0             acetohexamide       2\n",
       "0       glipizide-metformin       2\n",
       "0               diabetesMed       2\n",
       "0                    change       2\n",
       "0    metformin-pioglitazone       2\n",
       "0   metformin-rosiglitazone       2\n",
       "0                     LABEL       2\n",
       "0                tolazamide       2\n",
       "0              troglitazone       2\n",
       "0               tolbutamide       2\n",
       "0  glimepiride-pioglitazone       1\n",
       "0               citoglipton       1\n",
       "0                   examide       1"
      ]
     },
     "execution_count": 24,
     "metadata": {},
     "output_type": "execute_result"
    }
   ],
   "source": [
    "# lsit of categorical variables and their number of levels\n",
    "pd.concat(map(get_cat_levels, vars_cat)).sort_values(by=['Levels'], ascending=False)"
   ]
  },
  {
   "cell_type": "code",
   "execution_count": 25,
   "metadata": {},
   "outputs": [],
   "source": [
    "# drop variables with only 1 level and variables with > 50 levels\n",
    "df.drop(['diag_1', 'diag_2', 'diag_3', 'citoglipton', 'glimepiride-pioglitazone', 'examide'], axis=1, inplace=True)"
   ]
  },
  {
   "cell_type": "code",
   "execution_count": 26,
   "metadata": {},
   "outputs": [
    {
     "data": {
      "text/plain": [
       "30"
      ]
     },
     "execution_count": 26,
     "metadata": {},
     "output_type": "execute_result"
    }
   ],
   "source": [
    "vars_cat = list(df.columns.values[(df.dtypes == 'object').values])[:-1]\n",
    "len(vars_cat) # number of categorical variables, don't count on LABEL"
   ]
  },
  {
   "cell_type": "code",
   "execution_count": 27,
   "metadata": {
    "scrolled": true
   },
   "outputs": [
    {
     "data": {
      "text/plain": [
       "(71050, 41)"
      ]
     },
     "execution_count": 27,
     "metadata": {},
     "output_type": "execute_result"
    }
   ],
   "source": [
    "df.shape"
   ]
  },
  {
   "cell_type": "markdown",
   "metadata": {},
   "source": [
    "### 7. Summary"
   ]
  },
  {
   "cell_type": "markdown",
   "metadata": {},
   "source": [
    "The cleaned data set has 41 variables:\n",
    " - **8** numerical variables\n",
    " - **30** categorical varialbes\n",
    " - **1** encounter id variable\n",
    " - **1** patient number variable\n",
    " - **1** response variable"
   ]
  },
  {
   "cell_type": "code",
   "execution_count": 28,
   "metadata": {
    "scrolled": true
   },
   "outputs": [],
   "source": [
    "file_name = 'data/diabetic_data_clean.csv'\n",
    "df.to_csv(file_name, index=False)"
   ]
  }
 ],
 "metadata": {
  "kernelspec": {
   "display_name": "Python 3",
   "language": "python",
   "name": "python3"
  },
  "language_info": {
   "codemirror_mode": {
    "name": "ipython",
    "version": 3
   },
   "file_extension": ".py",
   "mimetype": "text/x-python",
   "name": "python",
   "nbconvert_exporter": "python",
   "pygments_lexer": "ipython3",
   "version": "3.7.5"
  }
 },
 "nbformat": 4,
 "nbformat_minor": 2
}
