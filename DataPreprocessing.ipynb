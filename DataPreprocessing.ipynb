{
 "cells": [
  {
   "cell_type": "code",
   "execution_count": null,
   "metadata": {},
   "outputs": [],
   "source": [
    "import numpy as np\n",
    "import pandas as pd\n",
    "import matplotlib.pyplot as plt\n",
    "import seaborn as sns"
   ]
  },
  {
   "cell_type": "markdown",
   "metadata": {},
   "source": [
    "# Data Preprocessing"
   ]
  },
  {
   "cell_type": "code",
   "execution_count": null,
   "metadata": {},
   "outputs": [],
   "source": [
    "df = pd.read_csv('./data/diabetic_data.csv', header=0, index_col=0)\n",
    "replace_values = {'?': np.nan,\n",
    "                 'Unknown/Invalid': np.nan}\n",
    "df.replace(replace_values, inplace=True)\n",
    "\n",
    "df.shape"
   ]
  },
  {
   "cell_type": "code",
   "execution_count": null,
   "metadata": {},
   "outputs": [],
   "source": [
    "df.gender.unique()"
   ]
  },
  {
   "cell_type": "code",
   "execution_count": null,
   "metadata": {},
   "outputs": [],
   "source": [
    "df.head()"
   ]
  },
  {
   "cell_type": "code",
   "execution_count": null,
   "metadata": {
    "scrolled": true
   },
   "outputs": [],
   "source": [
    "df.info()"
   ]
  },
  {
   "cell_type": "markdown",
   "metadata": {},
   "source": [
    "## Readmission label"
   ]
  },
  {
   "cell_type": "code",
   "execution_count": null,
   "metadata": {},
   "outputs": [],
   "source": [
    "# count the number of rows for each readmitted type\n",
    "df.groupby('readmitted').size()"
   ]
  },
  {
   "cell_type": "code",
   "execution_count": null,
   "metadata": {},
   "outputs": [],
   "source": [
    "# create a new variable LABEL\n",
    "df['LABEL'] = (df.readmitted == '<30').astype('int')"
   ]
  },
  {
   "cell_type": "code",
   "execution_count": null,
   "metadata": {
    "scrolled": false
   },
   "outputs": [],
   "source": [
    "df.LABEL.sum()"
   ]
  },
  {
   "cell_type": "markdown",
   "metadata": {},
   "source": [
    "## Missing values"
   ]
  },
  {
   "cell_type": "code",
   "execution_count": null,
   "metadata": {},
   "outputs": [],
   "source": [
    "# check missing values in columns\n",
    "(df.isnull().sum()*100/df.shape[0]).sort_values(ascending=False)[:10]"
   ]
  },
  {
   "cell_type": "code",
   "execution_count": null,
   "metadata": {},
   "outputs": [],
   "source": [
    "# check missing values in rows\n",
    "(df.isnull().sum(axis=1)*100/df.shape[1]).sort_values(ascending=False)[:30]"
   ]
  },
  {
   "cell_type": "code",
   "execution_count": null,
   "metadata": {},
   "outputs": [],
   "source": [
    "#dropping columns with high NA percentage (>30%)\n",
    "df.drop(['weight','medical_specialty','payer_code'], axis=1, inplace=True)"
   ]
  },
  {
   "cell_type": "code",
   "execution_count": null,
   "metadata": {},
   "outputs": [],
   "source": [
    "# check missing values in rows after dropping columns\n",
    "(df.isnull().sum(axis=1)*100/df.shape[1]).sort_values(ascending=False)[:20]"
   ]
  },
  {
   "cell_type": "code",
   "execution_count": null,
   "metadata": {},
   "outputs": [],
   "source": [
    "# dropping rows with NAs.\n",
    "df.dropna(inplace=True)\n",
    "\n",
    "# check missing values in rows after dropping columns\n",
    "(df.isnull().sum(axis=1)*100/df.shape[1]).sort_values(ascending=False)[:10]"
   ]
  },
  {
   "cell_type": "code",
   "execution_count": null,
   "metadata": {},
   "outputs": [],
   "source": [
    "df.shape"
   ]
  },
  {
   "cell_type": "markdown",
   "metadata": {},
   "source": [
    "## Encoding categorical variables"
   ]
  },
  {
   "cell_type": "code",
   "execution_count": null,
   "metadata": {
    "scrolled": false
   },
   "outputs": [],
   "source": [
    "diag_cols = ['diag_1','diag_2','diag_3']\n",
    "for col in diag_cols:\n",
    "    df[col] = df[col].str.replace('E','-')\n",
    "    df[col] = df[col].str.replace('V','-')\n",
    "    condition = df[col].str.contains('250')\n",
    "    df.loc[condition,col] = '250'\n",
    "\n",
    "df[diag_cols] = df[diag_cols].astype(float)\n",
    "\n",
    "# diagnosis grouping\n",
    "for col in diag_cols:\n",
    "    df['temp']=np.nan\n",
    "    \n",
    "    condition = df[col]==250\n",
    "    df.loc[condition,'temp']='Diabetes'\n",
    "    \n",
    "    condition = (df[col]>=390) & (df[col]<=458) | (df[col]==785)\n",
    "    df.loc[condition,'temp']='Circulatory'\n",
    "    \n",
    "    condition = (df[col]>=460) & (df[col]<=519) | (df[col]==786)\n",
    "    df.loc[condition,'temp']='Respiratory'\n",
    "    \n",
    "    condition = (df[col]>=520) & (df[col]<=579) | (df[col]==787)\n",
    "    df.loc[condition,'temp']='Digestive'\n",
    "    \n",
    "    condition = (df[col]>=580) & (df[col]<=629) | (df[col]==788)\n",
    "    df.loc[condition,'temp']='Genitourinary'\n",
    "    \n",
    "    condition = (df[col]>=800) & (df[col]<=999)\n",
    "    df.loc[condition,'temp']='Injury'\n",
    "    \n",
    "    condition = (df[col]>=710) & (df[col]<=739)\n",
    "    df.loc[condition,'temp']='Muscoloskeletal'\n",
    "    \n",
    "    condition = (df[col]>=140) & (df[col]<=239)\n",
    "    df.loc[condition,'temp']='Neoplasms'\n",
    "    \n",
    "    condition = df[col]==0\n",
    "    df.loc[condition,col]='?'\n",
    "    df['temp']=df['temp'].fillna('Others')\n",
    "    condition = df['temp']=='0'\n",
    "    df.loc[condition,'temp']=np.nan\n",
    "    df[col]=df['temp']\n",
    "    df.drop('temp',axis=1,inplace=True)\n",
    "\n",
    "df.dropna(inplace=True)\n",
    "\n",
    "df['age'] = df['age'].str[1:].str.split('-',expand=True)[0]\n",
    "df['age'] = df['age'].astype(int)\n",
    "max_glu_serum_dict = {'None':0,\n",
    "                      'Norm':100,\n",
    "                      '>200':200,\n",
    "                      '>300':300\n",
    "                     }\n",
    "df['max_glu_serum'] = df['max_glu_serum'].replace(max_glu_serum_dict)\n",
    "\n",
    "A1Cresult_dict = {'None':0,\n",
    "                  'Norm':5,\n",
    "                  '>7':7,\n",
    "                  '>8':8\n",
    "                 }\n",
    "df['A1Cresult'] = df['A1Cresult'].replace(A1Cresult_dict)\n",
    "\n",
    "change_dict = {'No':-1,\n",
    "               'Ch':1\n",
    "              }\n",
    "df['change'] = df['change'].replace(change_dict)\n",
    "\n",
    "diabetesMed_dict = {'No':-1,\n",
    "                    'Yes':1\n",
    "                   }\n",
    "df['diabetesMed'] = df['diabetesMed'].replace(diabetesMed_dict)\n",
    "\n",
    "d23_feature_dict = {'Up':10,\n",
    "                    'Down':-10,\n",
    "                    'Steady':0,\n",
    "                    'No':-20\n",
    "                   }\n",
    "d23_cols = ['metformin','repaglinide','nateglinide','chlorpropamide',\n",
    " 'glimepiride','acetohexamide','glipizide','glyburide',\n",
    " 'tolbutamide','pioglitazone','rosiglitazone','acarbose',\n",
    " 'miglitol','troglitazone','tolazamide','examide',\n",
    " 'citoglipton','insulin','glyburide-metformin','glipizide-metformin',\n",
    " 'glimepiride-pioglitazone','metformin-rosiglitazone','metformin-pioglitazone']\n",
    "for col in d23_cols:\n",
    "    df[col] = df[col].replace(d23_feature_dict)\n",
    "\n",
    "condition = df['readmitted']!='NO'\n",
    "df['readmitted'] = np.where(condition,1,0)\n",
    "\n",
    "df.head()"
   ]
  },
  {
   "cell_type": "code",
   "execution_count": null,
   "metadata": {},
   "outputs": [],
   "source": [
    "df.age.unique()"
   ]
  },
  {
   "cell_type": "code",
   "execution_count": null,
   "metadata": {},
   "outputs": [],
   "source": [
    "df.info()"
   ]
  },
  {
   "cell_type": "markdown",
   "metadata": {},
   "source": [
    "## Examine outliers"
   ]
  },
  {
   "cell_type": "code",
   "execution_count": null,
   "metadata": {
    "scrolled": false
   },
   "outputs": [],
   "source": [
    "bp = df.boxplot(column=['time_in_hospital', 'num_procedures',  \n",
    "                         'number_diagnoses'])"
   ]
  },
  {
   "cell_type": "code",
   "execution_count": null,
   "metadata": {
    "scrolled": true
   },
   "outputs": [],
   "source": [
    "bp = df.boxplot(column = ['num_medications', 'num_lab_procedures'])"
   ]
  },
  {
   "cell_type": "code",
   "execution_count": null,
   "metadata": {
    "scrolled": true
   },
   "outputs": [],
   "source": [
    "bp = df.boxplot(column = ['number_outpatient', 'number_inpatient','number_emergency'])"
   ]
  },
  {
   "cell_type": "markdown",
   "metadata": {},
   "source": [
    "## Plot nominal variables with LABEL"
   ]
  },
  {
   "cell_type": "code",
   "execution_count": null,
   "metadata": {
    "scrolled": true
   },
   "outputs": [],
   "source": [
    "fig = plt.figure(figsize=(8,15))\n",
    "sns.countplot(y = df['discharge_disposition_id'], hue = df['LABEL']).set_title('Discharge Type VS. Readmission')"
   ]
  },
  {
   "cell_type": "code",
   "execution_count": null,
   "metadata": {
    "scrolled": false
   },
   "outputs": [],
   "source": [
    "fig = plt.figure(figsize=(8,8))\n",
    "sns.countplot(y = df['age'], hue = df['LABEL']).set_title('Age of Patient VS. Readmission')"
   ]
  },
  {
   "cell_type": "code",
   "execution_count": null,
   "metadata": {},
   "outputs": [],
   "source": [
    "fig = plt.figure(figsize=(8,8))\n",
    "sns.countplot(y = df['gender'], hue = df['LABEL']).set_title('Gender of Patient VS. Readmission')"
   ]
  },
  {
   "cell_type": "code",
   "execution_count": null,
   "metadata": {},
   "outputs": [],
   "source": [
    "fig = plt.figure(figsize=(8,8))\n",
    "sns.countplot(y = df['race'], hue = df['LABEL']).set_title('Race of Patient VS. Readmission')"
   ]
  },
  {
   "cell_type": "code",
   "execution_count": null,
   "metadata": {
    "scrolled": true
   },
   "outputs": [],
   "source": [
    "plt.figure(figsize=(10,8))\n",
    "missing = pd.DataFrame({'column':df.columns ,'na_percent':df.isnull().sum()/len(df)*100})\n",
    "missing.sort_values('na_percent',inplace=True)\n",
    "plt.barh(missing['column'],width=missing['na_percent']);"
   ]
  }
 ],
 "metadata": {
  "kernelspec": {
   "display_name": "Python 3",
   "language": "python",
   "name": "python3"
  },
  "language_info": {
   "codemirror_mode": {
    "name": "ipython",
    "version": 3
   },
   "file_extension": ".py",
   "mimetype": "text/x-python",
   "name": "python",
   "nbconvert_exporter": "python",
   "pygments_lexer": "ipython3",
   "version": "3.7.3"
  }
 },
 "nbformat": 4,
 "nbformat_minor": 2
}
