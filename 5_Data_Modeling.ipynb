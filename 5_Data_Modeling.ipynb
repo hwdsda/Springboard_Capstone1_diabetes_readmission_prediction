{
 "cells": [
  {
   "cell_type": "markdown",
   "metadata": {},
   "source": [
    "## Imbalanced data\n",
    "\n",
    "The data is highly imbalanced when looking at the target LABEL feature. There are about 9% observations that were labeled as 1 (having readmission within 30 days). This high imabalance will lead to high accuracy (about 90%) even with a random classfier. However the recall and precision scores are low (even 0, in this case no positives, **1 here**, will be predicted in test dataset). Here I used several methods to oversample/undersample the classes of readmissions and obtain equal representation of overrepresented and underrepresented classes. Logistic regression classfier with hyperparameter grid search was used to evaluate different methods.\n",
    "1. base\n",
    "2. SMOTE (synthetic minority over-sampling technique)\n",
    "3. RandomOverSampler\n",
    "4. NearMiss\n",
    "5. RandomUnderSampler\n",
    "6. weighted base\n",
    "\n",
    "The medod  1 has nothing to do with resampling. The methods 2 and 3 have oversampling on underrepresented class. The methods 4 and 5 have undersampling on overrepresented calss. Method 6 use `class_wight = 'balanced'` when implementing `LogisticRegression` calssifier.\n",
    "\n",
    "The results show that, `base`, `RandomOverSampler`, `RandomUnderSampler`, `weighted base` have about 0.65 AUC score (area under curve). But `base` has very low recall score (0.002). `SMOTE` and `NearMiss` have about lower AUC score (about 0.57). `SMOTE` has low recall score (0.03) and `NearMiss` has low precision score (0.1). Then, `weighted base` method (use `class_weight = 'balanced'` in classfiers) will be used in later machinine learning practices (Random Forest, XGboost)."
   ]
  },
  {
   "cell_type": "code",
   "execution_count": 4,
   "metadata": {},
   "outputs": [],
   "source": [
    "import pandas as pd\n",
    "import matplotlib.pyplot as plt\n",
    "import numpy as np\n",
    "\n",
    "%matplotlib inline\n",
    "\n",
    "from sklearn.metrics import recall_score,accuracy_score,confusion_matrix,f1_score,precision_score,roc_auc_score,roc_curve\n",
    "from imblearn.over_sampling import SMOTE,RandomOverSampler\n",
    "from imblearn.under_sampling import NearMiss, RandomUnderSampler\n",
    "from sklearn.model_selection import train_test_split,KFold,cross_val_score,GridSearchCV \n",
    "from sklearn.preprocessing import StandardScaler\n",
    "\n",
    "from sklearn.linear_model import LogisticRegression\n",
    "from sklearn.ensemble import RandomForestClassifier"
   ]
  },
  {
   "cell_type": "code",
   "execution_count": 5,
   "metadata": {},
   "outputs": [
    {
     "data": {
      "text/plain": [
       "(69973, 44)"
      ]
     },
     "execution_count": 5,
     "metadata": {},
     "output_type": "execute_result"
    }
   ],
   "source": [
    "df = pd.read_csv('./data/diabetic_data_clean.csv', header=0)\n",
    "df_original = df.copy\n",
    "df.shape"
   ]
  },
  {
   "cell_type": "code",
   "execution_count": 6,
   "metadata": {},
   "outputs": [],
   "source": [
    "df['age'] = df['age'].astype('object')\n",
    "df['admission_type_id'] = df['admission_type_id'].astype('object')\n",
    "df['discharge_disposition_id'] = df['discharge_disposition_id'].astype('object')\n",
    "df['admission_source_id'] = df['admission_source_id'].astype('object')"
   ]
  },
  {
   "cell_type": "code",
   "execution_count": 7,
   "metadata": {},
   "outputs": [
    {
     "data": {
      "text/plain": [
       "encounter_id                 int64\n",
       "race                        object\n",
       "gender                      object\n",
       "age                         object\n",
       "admission_type_id           object\n",
       "discharge_disposition_id    object\n",
       "admission_source_id         object\n",
       "time_in_hospital             int64\n",
       "num_lab_procedures           int64\n",
       "num_procedures               int64\n",
       "num_medications              int64\n",
       "number_outpatient            int64\n",
       "number_emergency             int64\n",
       "number_inpatient             int64\n",
       "diag_1                      object\n",
       "diag_2                      object\n",
       "diag_3                      object\n",
       "number_diagnoses             int64\n",
       "max_glu_serum               object\n",
       "A1Cresult                   object\n",
       "metformin                   object\n",
       "repaglinide                 object\n",
       "nateglinide                 object\n",
       "chlorpropamide              object\n",
       "glimepiride                 object\n",
       "acetohexamide               object\n",
       "glipizide                   object\n",
       "glyburide                   object\n",
       "tolbutamide                 object\n",
       "pioglitazone                object\n",
       "rosiglitazone               object\n",
       "acarbose                    object\n",
       "miglitol                    object\n",
       "troglitazone                object\n",
       "tolazamide                  object\n",
       "insulin                     object\n",
       "glyburide-metformin         object\n",
       "glipizide-metformin         object\n",
       "metformin-rosiglitazone     object\n",
       "metformin-pioglitazone      object\n",
       "change                      object\n",
       "diabetesMed                 object\n",
       "LABEL                        int64\n",
       "num_change                   int64\n",
       "dtype: object"
      ]
     },
     "execution_count": 7,
     "metadata": {},
     "output_type": "execute_result"
    }
   ],
   "source": [
    "df.dtypes"
   ]
  },
  {
   "cell_type": "code",
   "execution_count": 8,
   "metadata": {
    "scrolled": true
   },
   "outputs": [
    {
     "name": "stdout",
     "output_type": "stream",
     "text": [
      "(69973, 44)\n",
      "(68054, 44)\n"
     ]
    }
   ],
   "source": [
    "print(df.shape)\n",
    "df.dropna(axis=0, inplace=True)\n",
    "print(df.shape)"
   ]
  },
  {
   "cell_type": "code",
   "execution_count": 9,
   "metadata": {
    "scrolled": false
   },
   "outputs": [],
   "source": [
    "interactionterms = [('num_medications','time_in_hospital'), ('num_medications','num_procedures'), ('time_in_hospital','num_lab_procedures'),\n",
    "('num_medications','number_diagnoses'), ('num_medications','num_lab_procedures'), \n",
    "('num_change','num_medications'), ('number_diagnoses','time_in_hospital')]\n",
    " \n",
    "for inter in interactionterms:\n",
    "    name = inter[0] + '|' + inter[1]\n",
    "    df[name] = df[inter[0]] * df[inter[1]]"
   ]
  },
  {
   "cell_type": "code",
   "execution_count": 10,
   "metadata": {
    "scrolled": false
   },
   "outputs": [
    {
     "data": {
      "text/plain": [
       "(68054, 49)"
      ]
     },
     "execution_count": 10,
     "metadata": {},
     "output_type": "execute_result"
    }
   ],
   "source": [
    "X = df\n",
    "y = X.LABEL\n",
    "X.drop(['encounter_id','LABEL'], axis=1, inplace=True) #,'change','diabetesMed','num_change',\n",
    "X.shape"
   ]
  },
  {
   "cell_type": "code",
   "execution_count": 11,
   "metadata": {},
   "outputs": [
    {
     "name": "stdout",
     "output_type": "stream",
     "text": [
      "(68054, 149)\n",
      "(68054,)\n"
     ]
    }
   ],
   "source": [
    "X = pd.get_dummies(X, drop_first=True)\n",
    "print(X.shape)\n",
    "print(y.shape)"
   ]
  },
  {
   "cell_type": "markdown",
   "metadata": {},
   "source": [
    "### Check magnitude of data imbalance"
   ]
  },
  {
   "cell_type": "code",
   "execution_count": 12,
   "metadata": {},
   "outputs": [
    {
     "name": "stdout",
     "output_type": "stream",
     "text": [
      "0    61918\n",
      "1     6136\n",
      "Name: LABEL, dtype: int64 \n",
      "\n",
      "0.09016369353748493\n"
     ]
    }
   ],
   "source": [
    "count_classes = y.value_counts()\n",
    "print(count_classes, '\\n')\n",
    "print(sum(y == 1)/len(y))"
   ]
  },
  {
   "cell_type": "code",
   "execution_count": 13,
   "metadata": {},
   "outputs": [],
   "source": [
    "#X = pd.DataFrame(StandardScaler().fit_transform(X))"
   ]
  },
  {
   "cell_type": "markdown",
   "metadata": {},
   "source": [
    "### Split into training and test datasets"
   ]
  },
  {
   "cell_type": "code",
   "execution_count": 14,
   "metadata": {},
   "outputs": [
    {
     "name": "stdout",
     "output_type": "stream",
     "text": [
      "(54443, 149)\n",
      "(13611, 149)\n"
     ]
    }
   ],
   "source": [
    "X_train, X_test, y_train, y_test = train_test_split(X, y, test_size = 0.2, random_state = 0, stratify = y)\n",
    "print(X_train.shape)\n",
    "print(X_test.shape)"
   ]
  },
  {
   "cell_type": "markdown",
   "metadata": {},
   "source": [
    "### Helper functions"
   ]
  },
  {
   "cell_type": "code",
   "execution_count": 15,
   "metadata": {},
   "outputs": [],
   "source": [
    "def benchmark(sampling_type,X,y):\n",
    "    lr = LogisticRegression(max_iter=1000, solver='liblinear')\n",
    "    param_grid = {'C':[0.01,0.1,1,10,20]}\n",
    "    gs = GridSearchCV(estimator=lr, param_grid=param_grid, scoring='accuracy', cv=5, verbose=0)\n",
    "    gs = gs.fit(X.values,y.values.ravel())\n",
    "    return sampling_type,gs.best_score_,gs.best_params_['C']\n",
    "\n",
    "def transform(transformer,X,y):\n",
    "    print(\"Transforming {}\".format(transformer.__class__.__name__))\n",
    "    X_resampled,y_resampled = transformer.fit_sample(X.values,y.values.ravel())\n",
    "    return transformer.__class__.__name__,pd.DataFrame(X_resampled), pd.DataFrame(y_resampled)"
   ]
  },
  {
   "cell_type": "markdown",
   "metadata": {},
   "source": [
    "### Apply sampling transformations to tain dataset"
   ]
  },
  {
   "cell_type": "code",
   "execution_count": 16,
   "metadata": {},
   "outputs": [
    {
     "name": "stdout",
     "output_type": "stream",
     "text": [
      "Transforming SMOTE\n",
      "Transforming RandomOverSampler\n",
      "Transforming NearMiss\n",
      "Transforming RandomUnderSampler\n"
     ]
    }
   ],
   "source": [
    "datasets = []\n",
    "\n",
    "datasets.append((\"base\",X_train,y_train))\n",
    "datasets.append(transform(SMOTE(n_jobs=-1),X_train,y_train))\n",
    "datasets.append(transform(RandomOverSampler(),X_train,y_train))\n",
    "datasets.append(transform(NearMiss(n_jobs=-1),X_train,y_train))\n",
    "datasets.append(transform(RandomUnderSampler(),X_train,y_train))"
   ]
  },
  {
   "cell_type": "markdown",
   "metadata": {},
   "source": [
    "### Determine best hyperparameters"
   ]
  },
  {
   "cell_type": "code",
   "execution_count": 19,
   "metadata": {
    "scrolled": false
   },
   "outputs": [
    {
     "name": "stdout",
     "output_type": "stream",
     "text": [
      "base\n",
      "SMOTE\n",
      "RandomOverSampler\n",
      "NearMiss\n",
      "RandomUnderSampler\n"
     ]
    }
   ],
   "source": [
    "benchmark_scores = []\n",
    "for sample_type,X1,y1 in datasets:\n",
    "    print('{}'.format(sample_type))\n",
    "    benchmark_scores.append(benchmark(sample_type,X1,y1))"
   ]
  },
  {
   "cell_type": "code",
   "execution_count": 15,
   "metadata": {},
   "outputs": [
    {
     "data": {
      "text/plain": [
       "[('base', 0.9098323008160161, 0.1),\n",
       " ('SMOTE', 0.9397898044301787, 0.1),\n",
       " ('RandomOverSampler', 0.6120139866752827, 20),\n",
       " ('NearMiss', 0.8552596248520231, 20),\n",
       " ('RandomUnderSampler', 0.6058256461440934, 0.1)]"
      ]
     },
     "execution_count": 15,
     "metadata": {},
     "output_type": "execute_result"
    }
   ],
   "source": [
    "benchmark_scores"
   ]
  },
  {
   "cell_type": "code",
   "execution_count": 16,
   "metadata": {},
   "outputs": [
    {
     "name": "stdout",
     "output_type": "stream",
     "text": [
      "Training on base\n",
      "Training on SMOTE\n",
      "Training on RandomOverSampler\n",
      "Training on NearMiss\n",
      "Training on RandomUnderSampler\n"
     ]
    }
   ],
   "source": [
    "scores = []\n",
    "fpr_tpr = []\n",
    "\n",
    "# train models based on benchmark params\n",
    "for sampling_type,score,param in benchmark_scores:\n",
    "    print(\"Training on {}\".format(sampling_type))\n",
    "    lr = LogisticRegression(solver='liblinear', C=param)\n",
    "    for s_type, X, y in datasets:\n",
    "        if s_type == sampling_type:\n",
    "            lr.fit(X.values,y.values.ravel())\n",
    "            pred_test = lr.predict(X_test.values)\n",
    "            y_test_scores = lr.decision_function(X_test.values)\n",
    "            fpr, tpr, thresholds = roc_curve(y_test, y_test_scores)\n",
    "            fpr_tpr.append((sampling_type, fpr, tpr))\n",
    "            scores.append((sampling_type,\n",
    "                           f1_score(y_test.values.ravel(),pred_test),\n",
    "                           precision_score(y_test.values.ravel(),pred_test),\n",
    "                           recall_score(y_test.values.ravel(),pred_test),\n",
    "                           accuracy_score(y_test.values.ravel(),pred_test),\n",
    "                           roc_auc_score(y_test, y_test_scores),\n",
    "                           confusion_matrix(y_test.values.ravel(),pred_test)))"
   ]
  },
  {
   "cell_type": "code",
   "execution_count": 17,
   "metadata": {
    "scrolled": true
   },
   "outputs": [
    {
     "data": {
      "text/html": [
       "<div>\n",
       "<style scoped>\n",
       "    .dataframe tbody tr th:only-of-type {\n",
       "        vertical-align: middle;\n",
       "    }\n",
       "\n",
       "    .dataframe tbody tr th {\n",
       "        vertical-align: top;\n",
       "    }\n",
       "\n",
       "    .dataframe thead th {\n",
       "        text-align: right;\n",
       "    }\n",
       "</style>\n",
       "<table border=\"1\" class=\"dataframe\">\n",
       "  <thead>\n",
       "    <tr style=\"text-align: right;\">\n",
       "      <th></th>\n",
       "      <th>Sampling Type</th>\n",
       "      <th>fpr</th>\n",
       "      <th>tpr</th>\n",
       "    </tr>\n",
       "  </thead>\n",
       "  <tbody>\n",
       "    <tr>\n",
       "      <th>0</th>\n",
       "      <td>base</td>\n",
       "      <td>[0.0, 0.0, 0.00024224806201550387, 0.000242248...</td>\n",
       "      <td>[0.0, 0.0008149959250203749, 0.000814995925020...</td>\n",
       "    </tr>\n",
       "    <tr>\n",
       "      <th>1</th>\n",
       "      <td>SMOTE</td>\n",
       "      <td>[0.0, 0.0, 0.00040374677002583977, 0.000403746...</td>\n",
       "      <td>[0.0, 0.0008149959250203749, 0.000814995925020...</td>\n",
       "    </tr>\n",
       "    <tr>\n",
       "      <th>2</th>\n",
       "      <td>RandomOverSampler</td>\n",
       "      <td>[0.0, 0.0, 0.00040374677002583977, 0.000403746...</td>\n",
       "      <td>[0.0, 0.0008149959250203749, 0.000814995925020...</td>\n",
       "    </tr>\n",
       "    <tr>\n",
       "      <th>3</th>\n",
       "      <td>NearMiss</td>\n",
       "      <td>[0.0, 8.074935400516796e-05, 0.000161498708010...</td>\n",
       "      <td>[0.0, 0.0, 0.0, 0.0008149959250203749, 0.00081...</td>\n",
       "    </tr>\n",
       "    <tr>\n",
       "      <th>4</th>\n",
       "      <td>RandomUnderSampler</td>\n",
       "      <td>[0.0, 8.074935400516796e-05, 0.000161498708010...</td>\n",
       "      <td>[0.0, 0.0, 0.0, 0.0008149959250203749, 0.00081...</td>\n",
       "    </tr>\n",
       "  </tbody>\n",
       "</table>\n",
       "</div>"
      ],
      "text/plain": [
       "        Sampling Type                                                fpr  \\\n",
       "0                base  [0.0, 0.0, 0.00024224806201550387, 0.000242248...   \n",
       "1               SMOTE  [0.0, 0.0, 0.00040374677002583977, 0.000403746...   \n",
       "2   RandomOverSampler  [0.0, 0.0, 0.00040374677002583977, 0.000403746...   \n",
       "3            NearMiss  [0.0, 8.074935400516796e-05, 0.000161498708010...   \n",
       "4  RandomUnderSampler  [0.0, 8.074935400516796e-05, 0.000161498708010...   \n",
       "\n",
       "                                                 tpr  \n",
       "0  [0.0, 0.0008149959250203749, 0.000814995925020...  \n",
       "1  [0.0, 0.0008149959250203749, 0.000814995925020...  \n",
       "2  [0.0, 0.0008149959250203749, 0.000814995925020...  \n",
       "3  [0.0, 0.0, 0.0, 0.0008149959250203749, 0.00081...  \n",
       "4  [0.0, 0.0, 0.0, 0.0008149959250203749, 0.00081...  "
      ]
     },
     "execution_count": 17,
     "metadata": {},
     "output_type": "execute_result"
    }
   ],
   "source": [
    "fpr_tpr_results = pd.DataFrame(fpr_tpr,columns=['Sampling Type','fpr','tpr'])\n",
    "fpr_tpr_results"
   ]
  },
  {
   "cell_type": "code",
   "execution_count": 18,
   "metadata": {
    "scrolled": false
   },
   "outputs": [
    {
     "data": {
      "text/html": [
       "<div>\n",
       "<style scoped>\n",
       "    .dataframe tbody tr th:only-of-type {\n",
       "        vertical-align: middle;\n",
       "    }\n",
       "\n",
       "    .dataframe tbody tr th {\n",
       "        vertical-align: top;\n",
       "    }\n",
       "\n",
       "    .dataframe thead th {\n",
       "        text-align: right;\n",
       "    }\n",
       "</style>\n",
       "<table border=\"1\" class=\"dataframe\">\n",
       "  <thead>\n",
       "    <tr style=\"text-align: right;\">\n",
       "      <th></th>\n",
       "      <th>Sampling Type</th>\n",
       "      <th>f1</th>\n",
       "      <th>precision</th>\n",
       "      <th>recall</th>\n",
       "      <th>accuracy</th>\n",
       "      <th>auc</th>\n",
       "      <th>confusion_matrix</th>\n",
       "    </tr>\n",
       "  </thead>\n",
       "  <tbody>\n",
       "    <tr>\n",
       "      <th>0</th>\n",
       "      <td>base</td>\n",
       "      <td>0.009646</td>\n",
       "      <td>0.352941</td>\n",
       "      <td>0.004890</td>\n",
       "      <td>0.909485</td>\n",
       "      <td>0.638487</td>\n",
       "      <td>[[12373, 11], [1221, 6]]</td>\n",
       "    </tr>\n",
       "    <tr>\n",
       "      <th>1</th>\n",
       "      <td>SMOTE</td>\n",
       "      <td>0.026766</td>\n",
       "      <td>0.152542</td>\n",
       "      <td>0.014670</td>\n",
       "      <td>0.903828</td>\n",
       "      <td>0.586301</td>\n",
       "      <td>[[12284, 100], [1209, 18]]</td>\n",
       "    </tr>\n",
       "    <tr>\n",
       "      <th>2</th>\n",
       "      <td>RandomOverSampler</td>\n",
       "      <td>0.215892</td>\n",
       "      <td>0.135678</td>\n",
       "      <td>0.528117</td>\n",
       "      <td>0.654177</td>\n",
       "      <td>0.641978</td>\n",
       "      <td>[[8256, 4128], [579, 648]]</td>\n",
       "    </tr>\n",
       "    <tr>\n",
       "      <th>3</th>\n",
       "      <td>NearMiss</td>\n",
       "      <td>0.172788</td>\n",
       "      <td>0.096777</td>\n",
       "      <td>0.805216</td>\n",
       "      <td>0.304974</td>\n",
       "      <td>0.549736</td>\n",
       "      <td>[[3163, 9221], [239, 988]]</td>\n",
       "    </tr>\n",
       "    <tr>\n",
       "      <th>4</th>\n",
       "      <td>RandomUnderSampler</td>\n",
       "      <td>0.211551</td>\n",
       "      <td>0.132064</td>\n",
       "      <td>0.531377</td>\n",
       "      <td>0.642936</td>\n",
       "      <td>0.636472</td>\n",
       "      <td>[[8099, 4285], [575, 652]]</td>\n",
       "    </tr>\n",
       "  </tbody>\n",
       "</table>\n",
       "</div>"
      ],
      "text/plain": [
       "        Sampling Type        f1  precision    recall  accuracy       auc  \\\n",
       "0                base  0.009646   0.352941  0.004890  0.909485  0.638487   \n",
       "1               SMOTE  0.026766   0.152542  0.014670  0.903828  0.586301   \n",
       "2   RandomOverSampler  0.215892   0.135678  0.528117  0.654177  0.641978   \n",
       "3            NearMiss  0.172788   0.096777  0.805216  0.304974  0.549736   \n",
       "4  RandomUnderSampler  0.211551   0.132064  0.531377  0.642936  0.636472   \n",
       "\n",
       "             confusion_matrix  \n",
       "0    [[12373, 11], [1221, 6]]  \n",
       "1  [[12284, 100], [1209, 18]]  \n",
       "2  [[8256, 4128], [579, 648]]  \n",
       "3  [[3163, 9221], [239, 988]]  \n",
       "4  [[8099, 4285], [575, 652]]  "
      ]
     },
     "execution_count": 18,
     "metadata": {},
     "output_type": "execute_result"
    }
   ],
   "source": [
    "sampling_results = pd.DataFrame(scores,columns=['Sampling Type','f1','precision','recall','accuracy','auc','confusion_matrix'])\n",
    "sampling_results"
   ]
  },
  {
   "cell_type": "code",
   "execution_count": 19,
   "metadata": {},
   "outputs": [],
   "source": [
    "lr = LogisticRegression(solver='liblinear', class_weight=\"balanced\")\n",
    "lr.fit(X_train.values,y_train.values.ravel())\n",
    "scores = []\n",
    "fpr_tpr = []\n",
    "pred_test = lr.predict(X_test.values)\n",
    "y_test_scores = lr.decision_function(X_test.values)\n",
    "fpr, tpr, thresholds = roc_curve(y_test, y_test_scores)\n",
    "fpr_tpr.append((\"weighted_base\", fpr, tpr))\n",
    "scores.append((\"weighted_base\",\n",
    "                           f1_score(y_test.values.ravel(),pred_test),\n",
    "                           precision_score(y_test.values.ravel(),pred_test),\n",
    "                           recall_score(y_test.values.ravel(),pred_test),\n",
    "                           accuracy_score(y_test.values.ravel(),pred_test),\n",
    "                           roc_auc_score(y_test, y_test_scores),\n",
    "                           confusion_matrix(y_test.values.ravel(),pred_test)))\n",
    "\n",
    "fpr_tpr = pd.DataFrame(fpr_tpr,columns=['Sampling Type','fpr','tpr'])\n",
    "scores = pd.DataFrame(scores,columns=['Sampling Type','f1','precision','recall','accuracy','auc','confusion_matrix'])"
   ]
  },
  {
   "cell_type": "code",
   "execution_count": 20,
   "metadata": {
    "scrolled": true
   },
   "outputs": [
    {
     "data": {
      "text/html": [
       "<div>\n",
       "<style scoped>\n",
       "    .dataframe tbody tr th:only-of-type {\n",
       "        vertical-align: middle;\n",
       "    }\n",
       "\n",
       "    .dataframe tbody tr th {\n",
       "        vertical-align: top;\n",
       "    }\n",
       "\n",
       "    .dataframe thead th {\n",
       "        text-align: right;\n",
       "    }\n",
       "</style>\n",
       "<table border=\"1\" class=\"dataframe\">\n",
       "  <thead>\n",
       "    <tr style=\"text-align: right;\">\n",
       "      <th></th>\n",
       "      <th>Sampling Type</th>\n",
       "      <th>fpr</th>\n",
       "      <th>tpr</th>\n",
       "    </tr>\n",
       "  </thead>\n",
       "  <tbody>\n",
       "    <tr>\n",
       "      <th>0</th>\n",
       "      <td>base</td>\n",
       "      <td>[0.0, 0.0, 0.00024224806201550387, 0.000242248...</td>\n",
       "      <td>[0.0, 0.0008149959250203749, 0.000814995925020...</td>\n",
       "    </tr>\n",
       "    <tr>\n",
       "      <th>1</th>\n",
       "      <td>SMOTE</td>\n",
       "      <td>[0.0, 0.0, 0.00040374677002583977, 0.000403746...</td>\n",
       "      <td>[0.0, 0.0008149959250203749, 0.000814995925020...</td>\n",
       "    </tr>\n",
       "    <tr>\n",
       "      <th>2</th>\n",
       "      <td>RandomOverSampler</td>\n",
       "      <td>[0.0, 0.0, 0.00040374677002583977, 0.000403746...</td>\n",
       "      <td>[0.0, 0.0008149959250203749, 0.000814995925020...</td>\n",
       "    </tr>\n",
       "    <tr>\n",
       "      <th>3</th>\n",
       "      <td>NearMiss</td>\n",
       "      <td>[0.0, 8.074935400516796e-05, 0.000161498708010...</td>\n",
       "      <td>[0.0, 0.0, 0.0, 0.0008149959250203749, 0.00081...</td>\n",
       "    </tr>\n",
       "    <tr>\n",
       "      <th>4</th>\n",
       "      <td>RandomUnderSampler</td>\n",
       "      <td>[0.0, 8.074935400516796e-05, 0.000161498708010...</td>\n",
       "      <td>[0.0, 0.0, 0.0, 0.0008149959250203749, 0.00081...</td>\n",
       "    </tr>\n",
       "    <tr>\n",
       "      <th>0</th>\n",
       "      <td>weighted_base</td>\n",
       "      <td>[0.0, 8.074935400516796e-05, 8.074935400516796...</td>\n",
       "      <td>[0.0, 0.0, 0.0008149959250203749, 0.0008149959...</td>\n",
       "    </tr>\n",
       "  </tbody>\n",
       "</table>\n",
       "</div>"
      ],
      "text/plain": [
       "        Sampling Type                                                fpr  \\\n",
       "0                base  [0.0, 0.0, 0.00024224806201550387, 0.000242248...   \n",
       "1               SMOTE  [0.0, 0.0, 0.00040374677002583977, 0.000403746...   \n",
       "2   RandomOverSampler  [0.0, 0.0, 0.00040374677002583977, 0.000403746...   \n",
       "3            NearMiss  [0.0, 8.074935400516796e-05, 0.000161498708010...   \n",
       "4  RandomUnderSampler  [0.0, 8.074935400516796e-05, 0.000161498708010...   \n",
       "0       weighted_base  [0.0, 8.074935400516796e-05, 8.074935400516796...   \n",
       "\n",
       "                                                 tpr  \n",
       "0  [0.0, 0.0008149959250203749, 0.000814995925020...  \n",
       "1  [0.0, 0.0008149959250203749, 0.000814995925020...  \n",
       "2  [0.0, 0.0008149959250203749, 0.000814995925020...  \n",
       "3  [0.0, 0.0, 0.0, 0.0008149959250203749, 0.00081...  \n",
       "4  [0.0, 0.0, 0.0, 0.0008149959250203749, 0.00081...  \n",
       "0  [0.0, 0.0, 0.0008149959250203749, 0.0008149959...  "
      ]
     },
     "execution_count": 20,
     "metadata": {},
     "output_type": "execute_result"
    }
   ],
   "source": [
    "fpr_tpr_results = fpr_tpr_results.append(fpr_tpr)\n",
    "fpr_tpr_results"
   ]
  },
  {
   "cell_type": "code",
   "execution_count": 21,
   "metadata": {},
   "outputs": [
    {
     "data": {
      "text/html": [
       "<div>\n",
       "<style scoped>\n",
       "    .dataframe tbody tr th:only-of-type {\n",
       "        vertical-align: middle;\n",
       "    }\n",
       "\n",
       "    .dataframe tbody tr th {\n",
       "        vertical-align: top;\n",
       "    }\n",
       "\n",
       "    .dataframe thead th {\n",
       "        text-align: right;\n",
       "    }\n",
       "</style>\n",
       "<table border=\"1\" class=\"dataframe\">\n",
       "  <thead>\n",
       "    <tr style=\"text-align: right;\">\n",
       "      <th></th>\n",
       "      <th>Sampling Type</th>\n",
       "      <th>f1</th>\n",
       "      <th>precision</th>\n",
       "      <th>recall</th>\n",
       "      <th>accuracy</th>\n",
       "      <th>auc</th>\n",
       "      <th>confusion_matrix</th>\n",
       "    </tr>\n",
       "  </thead>\n",
       "  <tbody>\n",
       "    <tr>\n",
       "      <th>0</th>\n",
       "      <td>base</td>\n",
       "      <td>0.009646</td>\n",
       "      <td>0.352941</td>\n",
       "      <td>0.004890</td>\n",
       "      <td>0.909485</td>\n",
       "      <td>0.638487</td>\n",
       "      <td>[[12373, 11], [1221, 6]]</td>\n",
       "    </tr>\n",
       "    <tr>\n",
       "      <th>1</th>\n",
       "      <td>SMOTE</td>\n",
       "      <td>0.026766</td>\n",
       "      <td>0.152542</td>\n",
       "      <td>0.014670</td>\n",
       "      <td>0.903828</td>\n",
       "      <td>0.586301</td>\n",
       "      <td>[[12284, 100], [1209, 18]]</td>\n",
       "    </tr>\n",
       "    <tr>\n",
       "      <th>2</th>\n",
       "      <td>RandomOverSampler</td>\n",
       "      <td>0.215892</td>\n",
       "      <td>0.135678</td>\n",
       "      <td>0.528117</td>\n",
       "      <td>0.654177</td>\n",
       "      <td>0.641978</td>\n",
       "      <td>[[8256, 4128], [579, 648]]</td>\n",
       "    </tr>\n",
       "    <tr>\n",
       "      <th>3</th>\n",
       "      <td>NearMiss</td>\n",
       "      <td>0.172788</td>\n",
       "      <td>0.096777</td>\n",
       "      <td>0.805216</td>\n",
       "      <td>0.304974</td>\n",
       "      <td>0.549736</td>\n",
       "      <td>[[3163, 9221], [239, 988]]</td>\n",
       "    </tr>\n",
       "    <tr>\n",
       "      <th>4</th>\n",
       "      <td>RandomUnderSampler</td>\n",
       "      <td>0.211551</td>\n",
       "      <td>0.132064</td>\n",
       "      <td>0.531377</td>\n",
       "      <td>0.642936</td>\n",
       "      <td>0.636472</td>\n",
       "      <td>[[8099, 4285], [575, 652]]</td>\n",
       "    </tr>\n",
       "    <tr>\n",
       "      <th>0</th>\n",
       "      <td>weighted_base</td>\n",
       "      <td>0.216867</td>\n",
       "      <td>0.136450</td>\n",
       "      <td>0.528117</td>\n",
       "      <td>0.656160</td>\n",
       "      <td>0.643811</td>\n",
       "      <td>[[8283, 4101], [579, 648]]</td>\n",
       "    </tr>\n",
       "  </tbody>\n",
       "</table>\n",
       "</div>"
      ],
      "text/plain": [
       "        Sampling Type        f1  precision    recall  accuracy       auc  \\\n",
       "0                base  0.009646   0.352941  0.004890  0.909485  0.638487   \n",
       "1               SMOTE  0.026766   0.152542  0.014670  0.903828  0.586301   \n",
       "2   RandomOverSampler  0.215892   0.135678  0.528117  0.654177  0.641978   \n",
       "3            NearMiss  0.172788   0.096777  0.805216  0.304974  0.549736   \n",
       "4  RandomUnderSampler  0.211551   0.132064  0.531377  0.642936  0.636472   \n",
       "0       weighted_base  0.216867   0.136450  0.528117  0.656160  0.643811   \n",
       "\n",
       "             confusion_matrix  \n",
       "0    [[12373, 11], [1221, 6]]  \n",
       "1  [[12284, 100], [1209, 18]]  \n",
       "2  [[8256, 4128], [579, 648]]  \n",
       "3  [[3163, 9221], [239, 988]]  \n",
       "4  [[8099, 4285], [575, 652]]  \n",
       "0  [[8283, 4101], [579, 648]]  "
      ]
     },
     "execution_count": 21,
     "metadata": {},
     "output_type": "execute_result"
    }
   ],
   "source": [
    "sampling_results = sampling_results.append(scores)\n",
    "sampling_results"
   ]
  },
  {
   "cell_type": "code",
   "execution_count": 22,
   "metadata": {},
   "outputs": [
    {
     "data": {
      "image/png": "[encoded data removed]",
      "text/plain": [
       "<Figure size 576x576 with 1 Axes>"
      ]
     },
     "metadata": {
      "needs_background": "light"
     },
     "output_type": "display_data"
    }
   ],
   "source": [
    "plt.figure(figsize=(8,8))\n",
    "\n",
    "for i in set(fpr_tpr_results['Sampling Type']):\n",
    "    plt.plot(fpr_tpr_results.fpr[fpr_tpr_results['Sampling Type'] == i].values[0], \n",
    "             fpr_tpr_results.tpr[fpr_tpr_results['Sampling Type'] == i].values[0], \n",
    "             label='{} ROC curve (area = {:.2f})'.format(i, sampling_results.auc[sampling_results['Sampling Type'] == i].values[0]),\n",
    "             linewidth = 2)\n",
    "\n",
    "plt.plot([0, 1], [0, 1], 'k--') # dashed diagonal\n",
    "plt.axis([0, 1, 0, 1])\n",
    "plt.xlabel('False Positive Rate')\n",
    "plt.ylabel('True Positive Rate')\n",
    "plt.title('ROC curve - Logistic Regression')\n",
    "plt.legend(loc='lower right')\n",
    "plt.show()"
   ]
  },
  {
   "cell_type": "markdown",
   "metadata": {},
   "source": [
    "#### feature selection on Logistic Regression"
   ]
  },
  {
   "cell_type": "code",
   "execution_count": 39,
   "metadata": {
    "scrolled": false
   },
   "outputs": [
    {
     "name": "stdout",
     "output_type": "stream",
     "text": [
      "[[ 9.24575836e-02  2.04860474e-03  3.60838512e-02 -6.04866731e-03\n",
      "   2.96630182e-03  1.47209751e-01  3.50918759e-01  5.30845696e-02\n",
      "  -8.03211260e-02  4.78141501e-04 -2.53353305e-03 -4.57585484e-04\n",
      "   9.90595322e-04  1.04370259e-04 -1.22340041e-03 -7.75876241e-03\n",
      "   5.68222064e-02 -1.05116795e-02 -4.92035396e-02 -2.50617853e-01\n",
      "   3.35737982e-02  1.74219085e-01  2.13806299e-01  3.72505887e-01\n",
      "   4.00020271e-01  3.36106342e-01  5.31255118e-01  6.36926275e-01\n",
      "   6.01894966e-01  5.09562181e-01 -3.47586748e-02 -1.01891717e-01\n",
      "  -8.49659727e-01 -6.03890161e-02  1.30991581e-01 -1.62242532e+00\n",
      "  -3.65788743e-02  6.80703539e-01  5.72901660e-01  3.31299469e-01\n",
      "   1.13304960e+00  1.96966204e-01  4.92141138e-01  5.00348882e-01\n",
      "   1.19273818e+00 -6.61484687e-01  1.22176374e+00  1.71741629e+00\n",
      "  -3.91237849e-01 -5.85027043e-01  5.52075031e-01  1.55644243e+00\n",
      "  -1.02039319e+00 -1.66522331e-01 -2.54429138e-01 -3.86623390e-01\n",
      "   1.81893698e+00 -1.80193788e-01  4.54126452e-01 -1.78587587e-01\n",
      "  -4.44997094e-01 -1.18136464e-01 -7.03489946e-02 -3.85289818e-02\n",
      "   5.44250356e-01 -6.72686569e-01 -1.24643559e-01 -1.66943047e-01\n",
      "  -1.13384180e-01 -2.38136878e-01  5.67269722e-02 -5.84787672e-01\n",
      "  -1.60500956e-01  7.57327000e-02 -1.38631437e-01 -1.55980407e-02\n",
      "  -1.36352493e-01 -2.13469714e-01 -6.51575288e-02 -9.28167660e-02\n",
      "  -3.03669492e-01  3.74812871e-01  1.16307176e-02 -6.25822961e-02\n",
      "   1.17073248e-01 -2.15217652e-01  4.19089537e-01 -1.92831403e-02\n",
      "  -6.07983285e-02  3.43667180e-01  8.28203449e-02  1.44064615e-02\n",
      "   5.93630663e-02 -5.59087891e-02  2.02470637e-01 -4.08394641e-02\n",
      "   1.25453953e-01 -5.67497679e-02 -2.41556698e-01 -1.86633484e-02\n",
      "  -8.80986119e-02  2.41182376e-02 -6.15619807e-02 -2.96345242e-01\n",
      "  -3.13212621e-01 -5.31190459e-01  5.63078417e-01  8.40341235e-01\n",
      "   1.27232732e+00  5.65207728e-01  6.46137857e-01 -1.24280555e+00\n",
      "   3.17822004e-01 -4.73632597e-01 -6.48939050e-01 -6.14907535e-01\n",
      "  -7.19494780e-01 -2.63314964e-01 -2.83379920e-01 -4.74515737e-01\n",
      "  -3.53365822e-01 -1.35850262e-01  7.70302120e-02  1.55573673e-01\n",
      "   2.75583993e-01 -2.98681799e-01  1.73969340e-02 -4.45628241e-02\n",
      "   1.01670060e-01 -1.13168644e-02  4.98743070e-02  1.28676855e-01\n",
      "  -4.42095059e-01  6.92873770e-01 -4.21532502e-01 -2.47421387e-01\n",
      "  -2.43966189e-01 -3.76323286e-01 -7.46167265e-01 -2.25689785e-01\n",
      "  -1.58312754e-01 -8.94426485e-02  4.37656525e-02 -3.97742199e-01\n",
      "  -4.45406537e-01 -6.47425071e-01 -1.76905378e-01  3.76176239e-02\n",
      "   2.11352111e-01]]\n",
      "[[ 9.24575836e-02  2.04860474e-03  3.60838512e-02 -6.04866731e-03\n",
      "   2.96630182e-03  1.47209751e-01  3.50918759e-01  5.30845696e-02\n",
      "  -8.03211260e-02  4.78141501e-04 -2.53353305e-03 -4.57585484e-04\n",
      "   9.90595322e-04  1.04370259e-04 -1.22340041e-03 -7.75876241e-03\n",
      "   5.68222064e-02 -1.05116795e-02 -4.92035396e-02 -2.50617853e-01\n",
      "   3.35737982e-02  1.74219085e-01  2.13806299e-01  3.72505887e-01\n",
      "   4.00020271e-01  3.36106342e-01  5.31255118e-01  6.36926275e-01\n",
      "   6.01894966e-01  5.09562181e-01 -3.47586748e-02 -1.01891717e-01\n",
      "  -8.49659727e-01 -6.03890161e-02  1.30991581e-01 -1.62242532e+00\n",
      "  -3.65788743e-02  6.80703539e-01  5.72901660e-01  3.31299469e-01\n",
      "   1.13304960e+00  1.96966204e-01  4.92141138e-01  5.00348882e-01\n",
      "   1.19273818e+00 -6.61484687e-01  1.22176374e+00  1.71741629e+00\n",
      "  -3.91237849e-01 -5.85027043e-01  5.52075031e-01  1.55644243e+00\n",
      "  -1.02039319e+00 -1.66522331e-01 -2.54429138e-01 -3.86623390e-01\n",
      "   1.81893698e+00 -1.80193788e-01  4.54126452e-01 -1.78587587e-01\n",
      "  -4.44997094e-01 -1.18136464e-01 -7.03489946e-02 -3.85289818e-02\n",
      "   5.44250356e-01 -6.72686569e-01 -1.24643559e-01 -1.66943047e-01\n",
      "  -1.13384180e-01 -2.38136878e-01  5.67269722e-02 -5.84787672e-01\n",
      "  -1.60500956e-01  7.57327000e-02 -1.38631437e-01 -1.55980407e-02\n",
      "  -1.36352493e-01 -2.13469714e-01 -6.51575288e-02 -9.28167660e-02\n",
      "  -3.03669492e-01  3.74812871e-01  1.16307176e-02 -6.25822961e-02\n",
      "   1.17073248e-01 -2.15217652e-01  4.19089537e-01 -1.92831403e-02\n",
      "  -6.07983285e-02  3.43667180e-01  8.28203449e-02  1.44064615e-02\n",
      "   5.93630663e-02 -5.59087891e-02  2.02470637e-01 -4.08394641e-02\n",
      "   1.25453953e-01 -5.67497679e-02 -2.41556698e-01 -1.86633484e-02\n",
      "  -8.80986119e-02  2.41182376e-02 -6.15619807e-02 -2.96345242e-01\n",
      "  -3.13212621e-01 -5.31190459e-01  5.63078417e-01  8.40341235e-01\n",
      "   1.27232732e+00  5.65207728e-01  6.46137857e-01 -1.24280555e+00\n",
      "   3.17822004e-01 -4.73632597e-01 -6.48939050e-01 -6.14907535e-01\n",
      "  -7.19494780e-01 -2.63314964e-01 -2.83379920e-01 -4.74515737e-01\n",
      "  -3.53365822e-01 -1.35850262e-01  7.70302120e-02  1.55573673e-01\n",
      "   2.75583993e-01 -2.98681799e-01  1.73969340e-02 -4.45628241e-02\n",
      "   1.01670060e-01 -1.13168644e-02  4.98743070e-02  1.28676855e-01\n",
      "  -4.42095059e-01  6.92873770e-01 -4.21532502e-01 -2.47421387e-01\n",
      "  -2.43966189e-01 -3.76323286e-01 -7.46167265e-01 -2.25689785e-01\n",
      "  -1.58312754e-01 -8.94426485e-02  4.37656525e-02 -3.97742199e-01\n",
      "  -4.45406537e-01 -6.47425071e-01 -1.76905378e-01  3.76176239e-02\n",
      "   2.11352111e-01]]\n",
      "0.3250721924802013\n",
      "[False False False False False False  True False False False False False\n",
      " False False False False False False False False False False False  True\n",
      "  True  True  True  True  True  True False False  True False False  True\n",
      " False  True  True  True  True False  True  True  True  True  True  True\n",
      "  True  True  True  True  True False False  True  True False  True False\n",
      "  True False False False  True  True False False False False False  True\n",
      " False False False False False False False False False  True False False\n",
      " False False  True False False  True False False False False False False\n",
      " False False False False False False False False False  True  True  True\n",
      "  True  True  True  True False  True  True  True  True False False  True\n",
      "  True False False False False False False False False False False False\n",
      "  True  True  True False False  True  True False False False False  True\n",
      "  True  True False False False]\n",
      "[[0 0 1 ... 0 0 0]\n",
      " [0 0 0 ... 0 0 0]\n",
      " [0 0 1 ... 0 0 0]\n",
      " ...\n",
      " [0 0 0 ... 0 0 0]\n",
      " [0 0 0 ... 0 0 0]\n",
      " [0 0 1 ... 0 0 0]] \n",
      "\n",
      "[[ 0.40803467  0.18998559  0.23566912  0.19676315  0.41219067  0.53033244\n",
      "   0.50875842  0.38793207 -0.91685708 -1.63078644  0.66757789  0.58320778\n",
      "   0.30951867  1.09415666  0.3865617   0.53669186  1.07525989 -0.66801722\n",
      "   1.18258957  1.74676404 -0.50070297 -0.59025515  0.4332357   1.53297105\n",
      "  -0.91252392 -0.43798788  1.76907922  0.43685229 -0.35745576  0.58830502\n",
      "  -0.70863812 -0.70527407  0.38559377  0.50085357  0.39342082 -0.30130827\n",
      "   0.64050464  0.94173132  1.36952237  0.58304613  0.66998487 -1.27194215\n",
      "  -0.80240037 -0.90581201 -0.42501439 -0.556669   -0.36111749 -0.27130685\n",
      "  -0.53491789  0.62728521 -0.02220798 -0.43698356 -0.75989556 -0.49352586\n",
      "  -0.64843617 -0.70867308]]\n"
     ]
    }
   ],
   "source": [
    "from sklearn.feature_selection import SelectFromModel\n",
    "\n",
    "print(lr.coef_) # for LogisticRegression\n",
    "\n",
    "selector = SelectFromModel(estimator = LogisticRegression(solver='liblinear', class_weight=\"balanced\"))\n",
    "selector.fit(X_train, y_train)\n",
    "\n",
    "print(selector.estimator_.coef_) # for LogisticRegression\n",
    "print(selector.threshold_)\n",
    "print(selector.get_support())\n",
    "print(selector.transform(X_train), '\\n') # \n",
    "\n",
    "X1 = selector.transform(X_train)\n",
    "print(LogisticRegression(solver='liblinear', class_weight=\"balanced\").fit(X1,y_train).coef_)"
   ]
  },
  {
   "cell_type": "code",
   "execution_count": 47,
   "metadata": {},
   "outputs": [],
   "source": [
    "X_test_feat = X_test.loc[:, selector.get_support()]"
   ]
  },
  {
   "cell_type": "code",
   "execution_count": 48,
   "metadata": {},
   "outputs": [
    {
     "data": {
      "text/plain": [
       "(13611, 56)"
      ]
     },
     "execution_count": 48,
     "metadata": {},
     "output_type": "execute_result"
    }
   ],
   "source": [
    "X_test_feat.shape"
   ]
  },
  {
   "cell_type": "code",
   "execution_count": 49,
   "metadata": {},
   "outputs": [
    {
     "data": {
      "text/html": [
       "<div>\n",
       "<style scoped>\n",
       "    .dataframe tbody tr th:only-of-type {\n",
       "        vertical-align: middle;\n",
       "    }\n",
       "\n",
       "    .dataframe tbody tr th {\n",
       "        vertical-align: top;\n",
       "    }\n",
       "\n",
       "    .dataframe thead th {\n",
       "        text-align: right;\n",
       "    }\n",
       "</style>\n",
       "<table border=\"1\" class=\"dataframe\">\n",
       "  <thead>\n",
       "    <tr style=\"text-align: right;\">\n",
       "      <th></th>\n",
       "      <th>Sampling Type</th>\n",
       "      <th>f1</th>\n",
       "      <th>precision</th>\n",
       "      <th>recall</th>\n",
       "      <th>accuracy</th>\n",
       "      <th>auc</th>\n",
       "      <th>confusion_matrix</th>\n",
       "    </tr>\n",
       "  </thead>\n",
       "  <tbody>\n",
       "    <tr>\n",
       "      <th>0</th>\n",
       "      <td>weighted_base</td>\n",
       "      <td>0.21512</td>\n",
       "      <td>0.136294</td>\n",
       "      <td>0.510187</td>\n",
       "      <td>0.664389</td>\n",
       "      <td>0.62477</td>\n",
       "      <td>[[8417, 3967], [601, 626]]</td>\n",
       "    </tr>\n",
       "  </tbody>\n",
       "</table>\n",
       "</div>"
      ],
      "text/plain": [
       "   Sampling Type       f1  precision    recall  accuracy      auc  \\\n",
       "0  weighted_base  0.21512   0.136294  0.510187  0.664389  0.62477   \n",
       "\n",
       "             confusion_matrix  \n",
       "0  [[8417, 3967], [601, 626]]  "
      ]
     },
     "execution_count": 49,
     "metadata": {},
     "output_type": "execute_result"
    }
   ],
   "source": [
    "lr_feat = LogisticRegression(solver='liblinear', class_weight=\"balanced\")\n",
    "lr_feat.fit(X1, y_train)\n",
    "\n",
    "scores = []\n",
    "fpr_tpr = []\n",
    "pred_test = lr_feat.predict(X_test_feat.values)\n",
    "y_test_scores = lr_feat.decision_function(X_test_feat.values)\n",
    "fpr, tpr, thresholds = roc_curve(y_test, y_test_scores)\n",
    "fpr_tpr.append((\"weighted_base\", fpr, tpr))\n",
    "scores.append((\"weighted_base\",\n",
    "                           f1_score(y_test.values.ravel(),pred_test),\n",
    "                           precision_score(y_test.values.ravel(),pred_test),\n",
    "                           recall_score(y_test.values.ravel(),pred_test),\n",
    "                           accuracy_score(y_test.values.ravel(),pred_test),\n",
    "                           roc_auc_score(y_test, y_test_scores),\n",
    "                           confusion_matrix(y_test.values.ravel(),pred_test)))\n",
    "\n",
    "fpr_tpr = pd.DataFrame(fpr_tpr,columns=['Sampling Type','fpr','tpr'])\n",
    "scores = pd.DataFrame(scores,columns=['Sampling Type','f1','precision','recall','accuracy','auc','confusion_matrix'])\n",
    "\n",
    "lr_feat_results = pd.DataFrame(scores,columns=['Sampling Type','f1','precision','recall','accuracy','auc','confusion_matrix'])\n",
    "lr_feat_results"
   ]
  },
  {
   "cell_type": "markdown",
   "metadata": {},
   "source": [
    "### Random Forest Classfier"
   ]
  },
  {
   "cell_type": "code",
   "execution_count": null,
   "metadata": {},
   "outputs": [],
   "source": [
    "def benchmark_rf(sampling_type,X,y):\n",
    "    param_grid = { \n",
    "    'n_estimators': [200, 500],\n",
    "    'max_features': ['sqrt', 'log2'],\n",
    "    'max_depth' : [5,10]\n",
    "    }\n",
    "    rf = RandomForestClassifier(random_state=0)\n",
    "\n",
    "    gs = GridSearchCV(estimator=rf, param_grid=param_grid, cv=5, verbose=0)\n",
    "    gs = gs.fit(X.values,y.values.ravel())\n",
    "    return sampling_type,gs.best_score_,gs.best_params_"
   ]
  },
  {
   "cell_type": "code",
   "execution_count": null,
   "metadata": {
    "scrolled": true
   },
   "outputs": [],
   "source": [
    "benchmark_rf_scores = []\n",
    "for sample_type,X1,y1 in datasets:\n",
    "    print('{}'.format(sample_type))\n",
    "    benchmark_rf_scores.append(benchmark_rf(sample_type,X1,y1))\n",
    "benchmark_rf_scores"
   ]
  },
  {
   "cell_type": "code",
   "execution_count": null,
   "metadata": {},
   "outputs": [],
   "source": [
    "scores = []\n",
    "fpr_tpr = []\n",
    "\n",
    "# train models based on benchmark params\n",
    "for sampling_type,score,best_params_ in benchmark_rf_scores:\n",
    "    print(\"Training on {}\".format(sampling_type))\n",
    "    best_rf = RandomForestClassifier(n_estimators=best_params_['n_estimators'], \n",
    "                                     max_features=best_params_['max_features'],\n",
    "                                     max_depth=best_params_['max_depth'], random_state=0)\n",
    "    for s_type, X1, y1 in datasets:\n",
    "        if s_type == sampling_type:\n",
    "            best_rf.fit(X1,y1)\n",
    "            pred_test = best_rf.predict(X_test)\n",
    "            pred_test_probs = best_rf.predict_proba(X_test)\n",
    "            fpr, tpr, thresholds = roc_curve(y_test, pred_test_probs[:,1])\n",
    "            fpr_tpr.append((sampling_type, fpr, tpr))\n",
    "            scores.append((sampling_type, f1_score(y_test,pred_test),\n",
    "                precision_score(y_test,pred_test),\n",
    "                recall_score(y_test,pred_test),\n",
    "                accuracy_score(y_test,pred_test),\n",
    "                roc_auc_score(y_test, pred_test_probs[:,1]),\n",
    "                confusion_matrix(y_test,pred_test)))"
   ]
  },
  {
   "cell_type": "code",
   "execution_count": null,
   "metadata": {},
   "outputs": [],
   "source": [
    "sampling_results = pd.DataFrame(scores,columns=['Sampling Type','f1','precision','recall','accuracy','auc','confusion_matrix'])\n",
    "sampling_results"
   ]
  },
  {
   "cell_type": "code",
   "execution_count": null,
   "metadata": {
    "scrolled": true
   },
   "outputs": [],
   "source": [
    "fpr_tpr_results = pd.DataFrame(fpr_tpr,columns=['Sampling Type','fpr','tpr'])\n",
    "fpr_tpr_results"
   ]
  },
  {
   "cell_type": "code",
   "execution_count": 50,
   "metadata": {},
   "outputs": [],
   "source": [
    "rf = RandomForestClassifier(n_estimators=200, max_features='sqrt',max_depth=10, class_weight='balanced', random_state=0)\n",
    "rf.fit(X_train,y_train)\n",
    "\n",
    "scores = []\n",
    "fpr_tpr = []\n",
    "\n",
    "pred_test = rf.predict(X_test)\n",
    "pred_test_probs = rf.predict_proba(X_test)\n",
    "fpr, tpr, thresholds = roc_curve(y_test,  pred_test_probs[:,1])\n",
    "fpr_tpr.append((\"weighted_base\", fpr, tpr))\n",
    "scores.append((\"weighted_base\",\n",
    "                           f1_score(y_test,pred_test),\n",
    "                           precision_score(y_test,pred_test),\n",
    "                           recall_score(y_test,pred_test),\n",
    "                           accuracy_score(y_test,pred_test),\n",
    "                           roc_auc_score(y_test,pred_test_probs[:,1]),\n",
    "                           confusion_matrix(y_test,pred_test)))\n",
    "\n",
    "fpr_tpr = pd.DataFrame(fpr_tpr,columns=['Sampling Type','fpr','tpr'])\n",
    "scores = pd.DataFrame(scores,columns=['Sampling Type','f1','precision','recall','accuracy','auc','confusion_matrix'])"
   ]
  },
  {
   "cell_type": "code",
   "execution_count": 51,
   "metadata": {},
   "outputs": [
    {
     "data": {
      "text/html": [
       "<div>\n",
       "<style scoped>\n",
       "    .dataframe tbody tr th:only-of-type {\n",
       "        vertical-align: middle;\n",
       "    }\n",
       "\n",
       "    .dataframe tbody tr th {\n",
       "        vertical-align: top;\n",
       "    }\n",
       "\n",
       "    .dataframe thead th {\n",
       "        text-align: right;\n",
       "    }\n",
       "</style>\n",
       "<table border=\"1\" class=\"dataframe\">\n",
       "  <thead>\n",
       "    <tr style=\"text-align: right;\">\n",
       "      <th></th>\n",
       "      <th>Sampling Type</th>\n",
       "      <th>f1</th>\n",
       "      <th>precision</th>\n",
       "      <th>recall</th>\n",
       "      <th>accuracy</th>\n",
       "      <th>auc</th>\n",
       "      <th>confusion_matrix</th>\n",
       "    </tr>\n",
       "  </thead>\n",
       "  <tbody>\n",
       "    <tr>\n",
       "      <th>0</th>\n",
       "      <td>base</td>\n",
       "      <td>0.009646</td>\n",
       "      <td>0.352941</td>\n",
       "      <td>0.004890</td>\n",
       "      <td>0.909485</td>\n",
       "      <td>0.638487</td>\n",
       "      <td>[[12373, 11], [1221, 6]]</td>\n",
       "    </tr>\n",
       "    <tr>\n",
       "      <th>1</th>\n",
       "      <td>SMOTE</td>\n",
       "      <td>0.026766</td>\n",
       "      <td>0.152542</td>\n",
       "      <td>0.014670</td>\n",
       "      <td>0.903828</td>\n",
       "      <td>0.586301</td>\n",
       "      <td>[[12284, 100], [1209, 18]]</td>\n",
       "    </tr>\n",
       "    <tr>\n",
       "      <th>2</th>\n",
       "      <td>RandomOverSampler</td>\n",
       "      <td>0.215892</td>\n",
       "      <td>0.135678</td>\n",
       "      <td>0.528117</td>\n",
       "      <td>0.654177</td>\n",
       "      <td>0.641978</td>\n",
       "      <td>[[8256, 4128], [579, 648]]</td>\n",
       "    </tr>\n",
       "    <tr>\n",
       "      <th>3</th>\n",
       "      <td>NearMiss</td>\n",
       "      <td>0.172788</td>\n",
       "      <td>0.096777</td>\n",
       "      <td>0.805216</td>\n",
       "      <td>0.304974</td>\n",
       "      <td>0.549736</td>\n",
       "      <td>[[3163, 9221], [239, 988]]</td>\n",
       "    </tr>\n",
       "    <tr>\n",
       "      <th>4</th>\n",
       "      <td>RandomUnderSampler</td>\n",
       "      <td>0.211551</td>\n",
       "      <td>0.132064</td>\n",
       "      <td>0.531377</td>\n",
       "      <td>0.642936</td>\n",
       "      <td>0.636472</td>\n",
       "      <td>[[8099, 4285], [575, 652]]</td>\n",
       "    </tr>\n",
       "    <tr>\n",
       "      <th>0</th>\n",
       "      <td>weighted_base</td>\n",
       "      <td>0.216867</td>\n",
       "      <td>0.136450</td>\n",
       "      <td>0.528117</td>\n",
       "      <td>0.656160</td>\n",
       "      <td>0.643811</td>\n",
       "      <td>[[8283, 4101], [579, 648]]</td>\n",
       "    </tr>\n",
       "    <tr>\n",
       "      <th>0</th>\n",
       "      <td>weighted_base</td>\n",
       "      <td>0.206247</td>\n",
       "      <td>0.136714</td>\n",
       "      <td>0.419723</td>\n",
       "      <td>0.708765</td>\n",
       "      <td>0.621123</td>\n",
       "      <td>[[9132, 3252], [712, 515]]</td>\n",
       "    </tr>\n",
       "  </tbody>\n",
       "</table>\n",
       "</div>"
      ],
      "text/plain": [
       "        Sampling Type        f1  precision    recall  accuracy       auc  \\\n",
       "0                base  0.009646   0.352941  0.004890  0.909485  0.638487   \n",
       "1               SMOTE  0.026766   0.152542  0.014670  0.903828  0.586301   \n",
       "2   RandomOverSampler  0.215892   0.135678  0.528117  0.654177  0.641978   \n",
       "3            NearMiss  0.172788   0.096777  0.805216  0.304974  0.549736   \n",
       "4  RandomUnderSampler  0.211551   0.132064  0.531377  0.642936  0.636472   \n",
       "0       weighted_base  0.216867   0.136450  0.528117  0.656160  0.643811   \n",
       "0       weighted_base  0.206247   0.136714  0.419723  0.708765  0.621123   \n",
       "\n",
       "             confusion_matrix  \n",
       "0    [[12373, 11], [1221, 6]]  \n",
       "1  [[12284, 100], [1209, 18]]  \n",
       "2  [[8256, 4128], [579, 648]]  \n",
       "3  [[3163, 9221], [239, 988]]  \n",
       "4  [[8099, 4285], [575, 652]]  \n",
       "0  [[8283, 4101], [579, 648]]  \n",
       "0  [[9132, 3252], [712, 515]]  "
      ]
     },
     "execution_count": 51,
     "metadata": {},
     "output_type": "execute_result"
    }
   ],
   "source": [
    "sampling_results = sampling_results.append(scores)\n",
    "sampling_results"
   ]
  },
  {
   "cell_type": "code",
   "execution_count": 52,
   "metadata": {},
   "outputs": [
    {
     "data": {
      "image/png": "[encoded data removed]",
      "text/plain": [
       "<Figure size 576x576 with 1 Axes>"
      ]
     },
     "metadata": {
      "needs_background": "light"
     },
     "output_type": "display_data"
    }
   ],
   "source": [
    "plt.figure(figsize=(8,8))\n",
    "\n",
    "for i in set(fpr_tpr_results['Sampling Type']):\n",
    "    plt.plot(fpr_tpr_results.fpr[fpr_tpr_results['Sampling Type'] == i].values[0], \n",
    "             fpr_tpr_results.tpr[fpr_tpr_results['Sampling Type'] == i].values[0], \n",
    "             label='{} ROC curve (area = {:.2f})'.format(i, sampling_results.auc[sampling_results['Sampling Type'] == i].values[0]),\n",
    "             linewidth = 2)\n",
    "\n",
    "plt.plot([0, 1], [0, 1], 'k--') # dashed diagonal\n",
    "plt.axis([0, 1, 0, 1])\n",
    "plt.xlabel('False Positive Rate')\n",
    "plt.ylabel('True Positive Rate')\n",
    "plt.title('ROC curve - Random Forest Classifier')\n",
    "plt.legend(loc='lower right')\n",
    "plt.show()"
   ]
  },
  {
   "cell_type": "markdown",
   "metadata": {},
   "source": [
    "#### feature selection with Random Forest Classifier"
   ]
  },
  {
   "cell_type": "code",
   "execution_count": 53,
   "metadata": {
    "scrolled": false
   },
   "outputs": [
    {
     "name": "stdout",
     "output_type": "stream",
     "text": [
      "[3.38045659e-02 3.70331374e-02 1.48391683e-02 3.42403989e-02\n",
      " 1.05438312e-02 1.27352850e-02 7.99235401e-02 2.37492448e-02\n",
      " 7.93495504e-03 4.93808805e-02 2.89520734e-02 5.45047524e-02\n",
      " 4.89590937e-02 4.98148879e-02 2.30956549e-02 5.89517203e-02\n",
      " 1.09757968e-03 5.39252773e-03 1.76641970e-03 1.88369782e-03\n",
      " 6.03703013e-03 7.47875333e-04 1.70929110e-03 3.05864641e-03\n",
      " 4.81668566e-03 1.03709371e-02 4.27444795e-03 8.12393487e-03\n",
      " 7.99161395e-03 2.62369215e-03 5.50656279e-03 4.79729983e-03\n",
      " 0.00000000e+00 2.75885272e-03 3.60436621e-03 1.91247107e-05\n",
      " 4.96997703e-04 8.10419982e-03 2.86864375e-02 9.58639433e-04\n",
      " 1.53276136e-02 4.73899032e-03 1.30422570e-03 1.34324549e-04\n",
      " 1.31862234e-04 1.22287089e-06 2.65047791e-05 7.10816210e-04\n",
      " 0.00000000e+00 0.00000000e+00 2.69964230e-03 6.10421340e-02\n",
      " 2.00043853e-03 1.16128060e-05 1.07550543e-03 0.00000000e+00\n",
      " 2.21072089e-03 1.32609634e-03 7.41083670e-04 2.43752961e-03\n",
      " 1.62969081e-03 1.86096637e-03 6.47242039e-03 5.43902917e-05\n",
      " 3.31683217e-04 0.00000000e+00 0.00000000e+00 0.00000000e+00\n",
      " 0.00000000e+00 3.41917530e-03 4.18378857e-04 1.38948268e-06\n",
      " 0.00000000e+00 4.00691582e-03 4.00571276e-03 2.94424657e-03\n",
      " 4.51067121e-03 2.92683870e-03 2.43153492e-03 5.58243836e-03\n",
      " 1.19399899e-02 6.41016081e-03 2.47390244e-03 3.75414719e-03\n",
      " 1.89768120e-03 1.90373495e-03 4.69112986e-03 6.14445776e-03\n",
      " 4.83018463e-03 6.13509807e-03 2.26155134e-03 3.16402681e-03\n",
      " 1.79277070e-03 2.04812866e-03 2.31666651e-03 9.59186102e-03\n",
      " 3.75931413e-03 1.33099696e-03 3.81182220e-03 2.53370846e-03\n",
      " 3.44123173e-03 5.12415656e-03 3.45455386e-03 5.85518425e-03\n",
      " 4.92318234e-03 1.35680857e-03 1.53297242e-03 1.63824311e-03\n",
      " 4.52890571e-04 7.82076234e-04 5.40990608e-04 9.19548802e-06\n",
      " 3.97048528e-05 3.46697529e-05 0.00000000e+00 2.29260088e-03\n",
      " 2.37863780e-03 4.16394187e-04 4.62297531e-06 4.39815885e-03\n",
      " 4.34627731e-03 1.13233339e-03 3.53685837e-03 3.46338800e-03\n",
      " 1.18309225e-03 1.29809222e-05 3.38334112e-03 3.24672576e-03\n",
      " 3.83353231e-04 3.08188166e-03 3.40422731e-03 3.70749075e-04\n",
      " 3.45016836e-04 3.83766086e-05 4.42717070e-05 4.62629517e-07\n",
      " 0.00000000e+00 0.00000000e+00 3.26496891e-05 7.18411335e-03\n",
      " 4.83346828e-03 3.58068485e-03 9.33583099e-04 6.91186402e-04\n",
      " 0.00000000e+00 0.00000000e+00 0.00000000e+00 4.10533138e-03\n",
      " 9.39121129e-03]\n",
      "0.006711409395973154\n",
      "[ True  True  True  True  True  True  True  True  True  True  True  True\n",
      "  True  True  True  True False False False False False False False False\n",
      " False  True False  True  True False False False False False False False\n",
      " False  True  True False  True False False False False False False False\n",
      " False False False  True False False False False False False False False\n",
      " False False False False False False False False False False False False\n",
      " False False False False False False False False  True False False False\n",
      " False False False False False False False False False False False  True\n",
      " False False False False False False False False False False False False\n",
      " False False False False False False False False False False False False\n",
      " False False False False False False False False False False False False\n",
      " False False False False False False False  True False False False False\n",
      " False False False False  True]\n",
      "[[ 6 67  0 ...  0  0  1]\n",
      " [ 2 33  0 ...  1  1  1]\n",
      " [ 2 40  1 ...  0  1  0]\n",
      " ...\n",
      " [ 1 36  0 ...  1  1  1]\n",
      " [ 5 82  0 ...  0  1  0]\n",
      " [ 1 20  2 ...  1  1  1]] \n",
      "\n"
     ]
    }
   ],
   "source": [
    "from sklearn.feature_selection import SelectFromModel\n",
    "\n",
    "print(rf.feature_importances_)\n",
    "\n",
    "selector = SelectFromModel(estimator=RandomForestClassifier(n_estimators=200, max_features='sqrt',\n",
    "                                                            max_depth=10, class_weight='balanced', random_state=0))\n",
    "selector.fit(X_train, y_train)\n",
    "\n",
    "#print(selector.estimator_.coef_) # for LogisticRegression\n",
    "\n",
    "print(selector.threshold_)\n",
    "print(selector.get_support())\n",
    "print(selector.transform(X_train), '\\n') # \n",
    "\n",
    "X1 = selector.transform(X_train)\n",
    "#print(RandomForestClassifier().fit(X1,y).feature_importances_)"
   ]
  },
  {
   "cell_type": "code",
   "execution_count": 56,
   "metadata": {},
   "outputs": [
    {
     "name": "stdout",
     "output_type": "stream",
     "text": [
      "(54443, 27)\n",
      "(13611, 27)\n"
     ]
    }
   ],
   "source": [
    "print(X1.shape)\n",
    "X_test_feat = X_test.loc[:, selector.get_support()]\n",
    "print(X_test_feat.shape)"
   ]
  },
  {
   "cell_type": "code",
   "execution_count": 58,
   "metadata": {},
   "outputs": [
    {
     "data": {
      "text/html": [
       "<div>\n",
       "<style scoped>\n",
       "    .dataframe tbody tr th:only-of-type {\n",
       "        vertical-align: middle;\n",
       "    }\n",
       "\n",
       "    .dataframe tbody tr th {\n",
       "        vertical-align: top;\n",
       "    }\n",
       "\n",
       "    .dataframe thead th {\n",
       "        text-align: right;\n",
       "    }\n",
       "</style>\n",
       "<table border=\"1\" class=\"dataframe\">\n",
       "  <thead>\n",
       "    <tr style=\"text-align: right;\">\n",
       "      <th></th>\n",
       "      <th>Sampling Type</th>\n",
       "      <th>f1</th>\n",
       "      <th>precision</th>\n",
       "      <th>recall</th>\n",
       "      <th>accuracy</th>\n",
       "      <th>auc</th>\n",
       "      <th>confusion_matrix</th>\n",
       "    </tr>\n",
       "  </thead>\n",
       "  <tbody>\n",
       "    <tr>\n",
       "      <th>0</th>\n",
       "      <td>weighted_base</td>\n",
       "      <td>0.212247</td>\n",
       "      <td>0.142223</td>\n",
       "      <td>0.418093</td>\n",
       "      <td>0.720226</td>\n",
       "      <td>0.624734</td>\n",
       "      <td>[[9290, 3094], [714, 513]]</td>\n",
       "    </tr>\n",
       "  </tbody>\n",
       "</table>\n",
       "</div>"
      ],
      "text/plain": [
       "   Sampling Type        f1  precision    recall  accuracy       auc  \\\n",
       "0  weighted_base  0.212247   0.142223  0.418093  0.720226  0.624734   \n",
       "\n",
       "             confusion_matrix  \n",
       "0  [[9290, 3094], [714, 513]]  "
      ]
     },
     "execution_count": 58,
     "metadata": {},
     "output_type": "execute_result"
    }
   ],
   "source": [
    "rf_feat = RandomForestClassifier(n_estimators=200, max_features='sqrt',max_depth=10, class_weight='balanced', random_state=0)\n",
    "rf_feat.fit(X1,y_train)\n",
    "\n",
    "scores = []\n",
    "fpr_tpr = []\n",
    "\n",
    "pred_test = rf_feat.predict(X_test_feat)\n",
    "pred_test_probs = rf_feat.predict_proba(X_test_feat)\n",
    "fpr, tpr, thresholds = roc_curve(y_test,  pred_test_probs[:,1])\n",
    "fpr_tpr.append((\"weighted_base\", fpr, tpr))\n",
    "scores.append((\"weighted_base\",\n",
    "                           f1_score(y_test,pred_test),\n",
    "                           precision_score(y_test,pred_test),\n",
    "                           recall_score(y_test,pred_test),\n",
    "                           accuracy_score(y_test,pred_test),\n",
    "                           roc_auc_score(y_test,pred_test_probs[:,1]),\n",
    "                           confusion_matrix(y_test,pred_test)))\n",
    "\n",
    "fpr_tpr = pd.DataFrame(fpr_tpr,columns=['Sampling Type','fpr','tpr'])\n",
    "scores = pd.DataFrame(scores,columns=['Sampling Type','f1','precision','recall','accuracy','auc','confusion_matrix'])\n",
    "\n",
    "rf_feat_results = pd.DataFrame(scores,columns=['Sampling Type','f1','precision','recall','accuracy','auc','confusion_matrix'])\n",
    "rf_feat_results"
   ]
  },
  {
   "cell_type": "code",
   "execution_count": 80,
   "metadata": {},
   "outputs": [
    {
     "data": {
      "text/plain": [
       "array([3.38045659e-02, 3.70331374e-02, 1.48391683e-02, 3.42403989e-02,\n",
       "       1.05438312e-02, 1.27352850e-02, 7.99235401e-02, 2.37492448e-02,\n",
       "       7.93495504e-03, 4.93808805e-02, 2.89520734e-02, 5.45047524e-02,\n",
       "       4.89590937e-02, 4.98148879e-02, 2.30956549e-02, 5.89517203e-02,\n",
       "       1.09757968e-03, 5.39252773e-03, 1.76641970e-03, 1.88369782e-03,\n",
       "       6.03703013e-03, 7.47875333e-04, 1.70929110e-03, 3.05864641e-03,\n",
       "       4.81668566e-03, 1.03709371e-02, 4.27444795e-03, 8.12393487e-03,\n",
       "       7.99161395e-03, 2.62369215e-03, 5.50656279e-03, 4.79729983e-03,\n",
       "       0.00000000e+00, 2.75885272e-03, 3.60436621e-03, 1.91247107e-05,\n",
       "       4.96997703e-04, 8.10419982e-03, 2.86864375e-02, 9.58639433e-04,\n",
       "       1.53276136e-02, 4.73899032e-03, 1.30422570e-03, 1.34324549e-04,\n",
       "       1.31862234e-04, 1.22287089e-06, 2.65047791e-05, 7.10816210e-04,\n",
       "       0.00000000e+00, 0.00000000e+00, 2.69964230e-03, 6.10421340e-02,\n",
       "       2.00043853e-03, 1.16128060e-05, 1.07550543e-03, 0.00000000e+00,\n",
       "       2.21072089e-03, 1.32609634e-03, 7.41083670e-04, 2.43752961e-03,\n",
       "       1.62969081e-03, 1.86096637e-03, 6.47242039e-03, 5.43902917e-05,\n",
       "       3.31683217e-04, 0.00000000e+00, 0.00000000e+00, 0.00000000e+00,\n",
       "       0.00000000e+00, 3.41917530e-03, 4.18378857e-04, 1.38948268e-06,\n",
       "       0.00000000e+00, 4.00691582e-03, 4.00571276e-03, 2.94424657e-03,\n",
       "       4.51067121e-03, 2.92683870e-03, 2.43153492e-03, 5.58243836e-03,\n",
       "       1.19399899e-02, 6.41016081e-03, 2.47390244e-03, 3.75414719e-03,\n",
       "       1.89768120e-03, 1.90373495e-03, 4.69112986e-03, 6.14445776e-03,\n",
       "       4.83018463e-03, 6.13509807e-03, 2.26155134e-03, 3.16402681e-03,\n",
       "       1.79277070e-03, 2.04812866e-03, 2.31666651e-03, 9.59186102e-03,\n",
       "       3.75931413e-03, 1.33099696e-03, 3.81182220e-03, 2.53370846e-03,\n",
       "       3.44123173e-03, 5.12415656e-03, 3.45455386e-03, 5.85518425e-03,\n",
       "       4.92318234e-03, 1.35680857e-03, 1.53297242e-03, 1.63824311e-03,\n",
       "       4.52890571e-04, 7.82076234e-04, 5.40990608e-04, 9.19548802e-06,\n",
       "       3.97048528e-05, 3.46697529e-05, 0.00000000e+00, 2.29260088e-03,\n",
       "       2.37863780e-03, 4.16394187e-04, 4.62297531e-06, 4.39815885e-03,\n",
       "       4.34627731e-03, 1.13233339e-03, 3.53685837e-03, 3.46338800e-03,\n",
       "       1.18309225e-03, 1.29809222e-05, 3.38334112e-03, 3.24672576e-03,\n",
       "       3.83353231e-04, 3.08188166e-03, 3.40422731e-03, 3.70749075e-04,\n",
       "       3.45016836e-04, 3.83766086e-05, 4.42717070e-05, 4.62629517e-07,\n",
       "       0.00000000e+00, 0.00000000e+00, 3.26496891e-05, 7.18411335e-03,\n",
       "       4.83346828e-03, 3.58068485e-03, 9.33583099e-04, 6.91186402e-04,\n",
       "       0.00000000e+00, 0.00000000e+00, 0.00000000e+00, 4.10533138e-03,\n",
       "       9.39121129e-03])"
      ]
     },
     "execution_count": 80,
     "metadata": {},
     "output_type": "execute_result"
    }
   ],
   "source": [
    "importances"
   ]
  },
  {
   "cell_type": "code",
   "execution_count": 111,
   "metadata": {},
   "outputs": [
    {
     "data": {
      "text/plain": [
       "['time_in_hospital',\n",
       " 'num_lab_procedures',\n",
       " 'num_procedures',\n",
       " 'num_medications',\n",
       " 'number_outpatient',\n",
       " 'number_emergency',\n",
       " 'number_inpatient',\n",
       " 'number_diagnoses',\n",
       " 'num_change',\n",
       " 'num_medications|time_in_hospital',\n",
       " 'num_medications|num_procedures',\n",
       " 'time_in_hospital|num_lab_procedures',\n",
       " 'num_medications|number_diagnoses',\n",
       " 'num_medications|num_lab_procedures',\n",
       " 'num_change|num_medications',\n",
       " 'number_diagnoses|time_in_hospital',\n",
       " 'age_50',\n",
       " 'age_70',\n",
       " 'age_80',\n",
       " 'discharge_disposition_id_2',\n",
       " 'discharge_disposition_id_3',\n",
       " 'discharge_disposition_id_5',\n",
       " 'discharge_disposition_id_22',\n",
       " 'diag_1_Respiratory',\n",
       " 'diag_3_Other',\n",
       " 'insulin_No',\n",
       " 'diabetesMed_Yes']"
      ]
     },
     "execution_count": 111,
     "metadata": {},
     "output_type": "execute_result"
    }
   ],
   "source": [
    "list(X_test_feat)"
   ]
  },
  {
   "cell_type": "code",
   "execution_count": 114,
   "metadata": {},
   "outputs": [
    {
     "data": {
      "image/png": "[encoded data removed]",
      "text/plain": [
       "<Figure size 720x720 with 1 Axes>"
      ]
     },
     "metadata": {
      "needs_background": "light"
     },
     "output_type": "display_data"
    }
   ],
   "source": [
    "importances = rf_feat.feature_importances_\n",
    "\n",
    "# Sort feature importances in descending order\n",
    "indices = np.argsort(importances)[::-1]\n",
    "\n",
    "# Rearrange feature names so they match the sorted feature importances\n",
    "names = [list(X_test_feat)[i] for i in indices]\n",
    "\n",
    "# Create plot\n",
    "plt.figure(figsize = (10,10))\n",
    "\n",
    "# Create plot title\n",
    "plt.title(\"Feature Importance\")\n",
    "\n",
    "# Add bars\n",
    "plt.bar(range(10), importances[indices][0:10])\n",
    "\n",
    "# Add feature names as x-axis labels\n",
    "plt.xticks(range(10), names[0:10], rotation=90)\n",
    "\n",
    "# Show plot\n",
    "plt.show()\n"
   ]
  },
  {
   "cell_type": "markdown",
   "metadata": {},
   "source": [
    "# XGBoost"
   ]
  },
  {
   "cell_type": "code",
   "execution_count": 115,
   "metadata": {},
   "outputs": [],
   "source": [
    "import xgboost as xgb\n",
    "\n",
    "dtrain = xgb.DMatrix(X_train, label=y_train.values)\n",
    "\n",
    "params = {\"objective\":'binary:logistic','colsample_bytree': 0.3,'learning_rate': 0.1,\n",
    "                'max_depth': 5, 'alpha': 10}"
   ]
  },
  {
   "cell_type": "code",
   "execution_count": 120,
   "metadata": {},
   "outputs": [
    {
     "data": {
      "image/png": "[encoded data removed]",
      "text/plain": [
       "<Figure size 3600x720 with 1 Axes>"
      ]
     },
     "metadata": {
      "needs_background": "light"
     },
     "output_type": "display_data"
    }
   ],
   "source": [
    "xg_clf = xgb.train(params=params, dtrain=dtrain, num_boost_round=10)\n",
    "xgb.plot_tree(xg_clf,num_trees=2)\n",
    "plt.rcParams['figure.figsize'] = [50, 10]\n",
    "plt.show()"
   ]
  },
  {
   "cell_type": "code",
   "execution_count": 121,
   "metadata": {},
   "outputs": [],
   "source": [
    "weight_ratio = float(len(y_train[y_train == 0]))/float(len(y_train[y_train == \n",
    "1]))\n",
    "w_array = np.array([1]*y_train.shape[0])\n",
    "w_array[y_train==1] = weight_ratio\n",
    "w_array[y_train==0] = 1- weight_ratio"
   ]
  },
  {
   "cell_type": "code",
   "execution_count": null,
   "metadata": {},
   "outputs": [],
   "source": [
    "from sklearn.utils import class_weight\n",
    "class_weights = list(class_weight.compute_class_weight('balanced',\n",
    "                                             np.unique(train['class']),\n",
    "                                             train['class']))\n",
    "\n",
    "w_array = np.ones(y_train.shape[0], dtype = 'float')\n",
    "for i, val in enumerate(y_train):\n",
    "    w_array[i] = class_weights[val-1]"
   ]
  },
  {
   "cell_type": "code",
   "execution_count": 132,
   "metadata": {},
   "outputs": [
    {
     "data": {
      "text/plain": [
       "XGBClassifier(base_score=0.5, booster='gbtree', colsample_bylevel=1,\n",
       "              colsample_bynode=1, colsample_bytree=1, gamma=0,\n",
       "              learning_rate=0.1, max_delta_step=0, max_depth=3,\n",
       "              min_child_weight=1, missing=None, n_estimators=100, n_jobs=1,\n",
       "              nthread=None, objective='binary:logistic', random_state=0,\n",
       "              reg_alpha=0, reg_lambda=1, scale_pos_weight=1, seed=None,\n",
       "              silent=None, subsample=1, verbosity=1)"
      ]
     },
     "execution_count": 132,
     "metadata": {},
     "output_type": "execute_result"
    }
   ],
   "source": [
    "xgb_clf = xgb.XGBClassifier()\n",
    "xgb_clf.fit(X_train, y_train.values, sample_weight=w_array)"
   ]
  },
  {
   "cell_type": "code",
   "execution_count": 133,
   "metadata": {},
   "outputs": [
    {
     "data": {
      "text/html": [
       "<div>\n",
       "<style scoped>\n",
       "    .dataframe tbody tr th:only-of-type {\n",
       "        vertical-align: middle;\n",
       "    }\n",
       "\n",
       "    .dataframe tbody tr th {\n",
       "        vertical-align: top;\n",
       "    }\n",
       "\n",
       "    .dataframe thead th {\n",
       "        text-align: right;\n",
       "    }\n",
       "</style>\n",
       "<table border=\"1\" class=\"dataframe\">\n",
       "  <thead>\n",
       "    <tr style=\"text-align: right;\">\n",
       "      <th></th>\n",
       "      <th>Sampling Type</th>\n",
       "      <th>f1</th>\n",
       "      <th>precision</th>\n",
       "      <th>recall</th>\n",
       "      <th>accuracy</th>\n",
       "      <th>auc</th>\n",
       "      <th>confusion_matrix</th>\n",
       "    </tr>\n",
       "  </thead>\n",
       "  <tbody>\n",
       "    <tr>\n",
       "      <th>0</th>\n",
       "      <td>weighted_base</td>\n",
       "      <td>0.001625</td>\n",
       "      <td>0.25</td>\n",
       "      <td>0.000815</td>\n",
       "      <td>0.909705</td>\n",
       "      <td>0.643848</td>\n",
       "      <td>[[12381, 3], [1226, 1]]</td>\n",
       "    </tr>\n",
       "  </tbody>\n",
       "</table>\n",
       "</div>"
      ],
      "text/plain": [
       "   Sampling Type        f1  precision    recall  accuracy       auc  \\\n",
       "0  weighted_base  0.001625       0.25  0.000815  0.909705  0.643848   \n",
       "\n",
       "          confusion_matrix  \n",
       "0  [[12381, 3], [1226, 1]]  "
      ]
     },
     "execution_count": 133,
     "metadata": {},
     "output_type": "execute_result"
    }
   ],
   "source": [
    "scores = []\n",
    "fpr_tpr = []\n",
    "\n",
    "pred_test = xgb_clf.predict(X_test)\n",
    "pred_test_probs = xgb_clf.predict_proba(X_test)\n",
    "fpr, tpr, thresholds = roc_curve(y_test,  pred_test_probs[:,1])\n",
    "fpr_tpr.append((\"weighted_base\", fpr, tpr))\n",
    "scores.append((\"weighted_base\",\n",
    "                           f1_score(y_test,pred_test),\n",
    "                           precision_score(y_test,pred_test),\n",
    "                           recall_score(y_test,pred_test),\n",
    "                           accuracy_score(y_test,pred_test),\n",
    "                           roc_auc_score(y_test,pred_test_probs[:,1]),\n",
    "                           confusion_matrix(y_test,pred_test)))\n",
    "\n",
    "fpr_tpr = pd.DataFrame(fpr_tpr,columns=['Sampling Type','fpr','tpr'])\n",
    "scores = pd.DataFrame(scores,columns=['Sampling Type','f1','precision','recall','accuracy','auc','confusion_matrix'])\n",
    "\n",
    "xgb_clf_results = pd.DataFrame(scores,columns=['Sampling Type','f1','precision','recall','accuracy','auc','confusion_matrix'])\n",
    "xgb_clf_results"
   ]
  }
 ],
 "metadata": {
  "kernelspec": {
   "display_name": "Python 3",
   "language": "python",
   "name": "python3"
  },
  "language_info": {
   "codemirror_mode": {
    "name": "ipython",
    "version": 3
   },
   "file_extension": ".py",
   "mimetype": "text/x-python",
   "name": "python",
   "nbconvert_exporter": "python",
   "pygments_lexer": "ipython3",
   "version": "3.7.5"
  }
 },
 "nbformat": 4,
 "nbformat_minor": 2
}
