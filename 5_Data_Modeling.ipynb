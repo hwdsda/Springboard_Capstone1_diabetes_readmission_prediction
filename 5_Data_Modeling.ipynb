{
 "cells": [
  {
   "cell_type": "markdown",
   "metadata": {},
   "source": [
    "## Imbalanced data\n",
    "\n",
    "The data is highly imbalanced when looking at the target LABEL feature. There are about 9% observations that were labeled as 1 (having readmission within 30 days). This high imabalance will lead to high accuracy (about 90%) even with a random classfier. However the recall and precision scores are low (even 0, in this case no positives, **1 here**, will be predicted in test dataset). Here I used several methods to oversample/undersample the classes of readmissions and obtain equal representation of overrepresented and underrepresented classes. Logistic regression classfier with hyperparameter grid search was used to evaluate different methods.\n",
    "1. base\n",
    "2. SMOTE (synthetic minority over-sampling technique)\n",
    "3. RandomOverSampler\n",
    "4. NearMiss\n",
    "5. RandomUnderSampler\n",
    "6. weighted base\n",
    "\n",
    "The medod 1 has nothing to do with resampling. The methods 2 and 3 have oversampling on underrepresented class. The methods 4 and 5 have undersampling on overrepresented calss. Method 6 use `class_wight = 'balanced'` when implementing `LogisticRegression` calssifier.\n",
    "\n",
    "The results show that, `base`, `RandomOverSampler`, `RandomUnderSampler`, `weighted base` have about 0.65 AUC score (area under curve). But `base` has very low recall score (0.002). `SMOTE` and `NearMiss` have about lower AUC score (about 0.57). `SMOTE` has low recall score (0.03) and `NearMiss` has low precision score (0.1). Then, `weighted base` method (use `class_weight = 'balanced'` in classfiers) will be used in later machinine learning practices (Random Forest, XGboost)."
   ]
  },
  {
   "cell_type": "code",
   "execution_count": 1,
   "metadata": {},
   "outputs": [],
   "source": [
    "import pandas as pd\n",
    "import matplotlib.pyplot as plt\n",
    "import numpy as np\n",
    "\n",
    "%matplotlib inline\n",
    "\n",
    "from sklearn.metrics import recall_score,accuracy_score,confusion_matrix, f1_score, precision_score, auc,roc_auc_score,roc_curve, precision_recall_curve\n",
    "from imblearn.over_sampling import SMOTE, RandomOverSampler\n",
    "from imblearn.under_sampling import ClusterCentroids, NearMiss, RandomUnderSampler\n",
    "from imblearn.combine import SMOTEENN,SMOTETomek\n",
    "\n",
    "from sklearn.linear_model import LogisticRegression\n",
    "from sklearn.model_selection import KFold, cross_val_score, GridSearchCV\n",
    "from sklearn.metrics import confusion_matrix,precision_recall_curve,auc,roc_auc_score,roc_curve,recall_score,classification_report \n",
    "from sklearn.model_selection import train_test_split\n",
    "from sklearn.preprocessing import StandardScaler"
   ]
  },
  {
   "cell_type": "code",
   "execution_count": 2,
   "metadata": {},
   "outputs": [
    {
     "data": {
      "text/plain": [
       "(69973, 44)"
      ]
     },
     "execution_count": 2,
     "metadata": {},
     "output_type": "execute_result"
    }
   ],
   "source": [
    "df = pd.read_csv('./data/diabetic_data_clean.csv', header=0)\n",
    "df_original = df.copy\n",
    "df.shape"
   ]
  },
  {
   "cell_type": "code",
   "execution_count": 3,
   "metadata": {},
   "outputs": [],
   "source": [
    "df['age'] = df['age'].astype('object')\n",
    "df['admission_type_id'] = df['admission_type_id'].astype('object')\n",
    "df['discharge_disposition_id'] = df['discharge_disposition_id'].astype('object')\n",
    "df['admission_source_id'] = df['admission_source_id'].astype('object')"
   ]
  },
  {
   "cell_type": "code",
   "execution_count": 4,
   "metadata": {},
   "outputs": [
    {
     "data": {
      "text/plain": [
       "encounter_id                 int64\n",
       "race                        object\n",
       "gender                      object\n",
       "age                         object\n",
       "admission_type_id           object\n",
       "discharge_disposition_id    object\n",
       "admission_source_id         object\n",
       "time_in_hospital             int64\n",
       "num_lab_procedures           int64\n",
       "num_procedures               int64\n",
       "num_medications              int64\n",
       "number_outpatient            int64\n",
       "number_emergency             int64\n",
       "number_inpatient             int64\n",
       "diag_1                      object\n",
       "diag_2                      object\n",
       "diag_3                      object\n",
       "number_diagnoses             int64\n",
       "max_glu_serum               object\n",
       "A1Cresult                   object\n",
       "metformin                   object\n",
       "repaglinide                 object\n",
       "nateglinide                 object\n",
       "chlorpropamide              object\n",
       "glimepiride                 object\n",
       "acetohexamide               object\n",
       "glipizide                   object\n",
       "glyburide                   object\n",
       "tolbutamide                 object\n",
       "pioglitazone                object\n",
       "rosiglitazone               object\n",
       "acarbose                    object\n",
       "miglitol                    object\n",
       "troglitazone                object\n",
       "tolazamide                  object\n",
       "insulin                     object\n",
       "glyburide-metformin         object\n",
       "glipizide-metformin         object\n",
       "metformin-rosiglitazone     object\n",
       "metformin-pioglitazone      object\n",
       "change                      object\n",
       "diabetesMed                 object\n",
       "LABEL                        int64\n",
       "num_change                   int64\n",
       "dtype: object"
      ]
     },
     "execution_count": 4,
     "metadata": {},
     "output_type": "execute_result"
    }
   ],
   "source": [
    "df.dtypes"
   ]
  },
  {
   "cell_type": "code",
   "execution_count": 5,
   "metadata": {
    "scrolled": false
   },
   "outputs": [
    {
     "name": "stderr",
     "output_type": "stream",
     "text": [
      "C:\\Program Files\\Anaconda3\\lib\\site-packages\\pandas\\core\\frame.py:4117: SettingWithCopyWarning: \n",
      "A value is trying to be set on a copy of a slice from a DataFrame\n",
      "\n",
      "See the caveats in the documentation: http://pandas.pydata.org/pandas-docs/stable/user_guide/indexing.html#returning-a-view-versus-a-copy\n",
      "  errors=errors,\n"
     ]
    },
    {
     "data": {
      "text/plain": [
       "(68054, 42)"
      ]
     },
     "execution_count": 5,
     "metadata": {},
     "output_type": "execute_result"
    }
   ],
   "source": [
    "X = df.dropna()\n",
    "y = X.LABEL\n",
    "X.drop(['encounter_id','LABEL'], axis=1, inplace=True) #,'change','diabetesMed','num_change',\n",
    "X.shape"
   ]
  },
  {
   "cell_type": "code",
   "execution_count": 6,
   "metadata": {},
   "outputs": [
    {
     "name": "stdout",
     "output_type": "stream",
     "text": [
      "(68054, 142)\n",
      "(68054,)\n"
     ]
    }
   ],
   "source": [
    "X = pd.get_dummies(X, drop_first=True)\n",
    "print(X.shape)\n",
    "print(y.shape)"
   ]
  },
  {
   "cell_type": "markdown",
   "metadata": {},
   "source": [
    "### Check magnitude of data imbalance"
   ]
  },
  {
   "cell_type": "code",
   "execution_count": 7,
   "metadata": {},
   "outputs": [
    {
     "name": "stdout",
     "output_type": "stream",
     "text": [
      "0    61918\n",
      "1     6136\n",
      "Name: LABEL, dtype: int64 \n",
      "\n",
      "0.09016369353748493\n"
     ]
    }
   ],
   "source": [
    "count_classes = y.value_counts()\n",
    "print(count_classes, '\\n')\n",
    "print(sum(y == 1)/len(y))"
   ]
  },
  {
   "cell_type": "code",
   "execution_count": 8,
   "metadata": {},
   "outputs": [],
   "source": [
    "#X = pd.DataFrame(StandardScaler().fit_transform(X))"
   ]
  },
  {
   "cell_type": "markdown",
   "metadata": {},
   "source": [
    "### Split into training and test datasets"
   ]
  },
  {
   "cell_type": "code",
   "execution_count": 9,
   "metadata": {},
   "outputs": [
    {
     "name": "stdout",
     "output_type": "stream",
     "text": [
      "(54443, 142)\n",
      "(13611, 142)\n"
     ]
    }
   ],
   "source": [
    "X_train, X_test, y_train, y_test = train_test_split(X,y,test_size = 0.2, random_state = 0)\n",
    "print(X_train.shape)\n",
    "print(X_test.shape)"
   ]
  },
  {
   "cell_type": "markdown",
   "metadata": {},
   "source": [
    "### Helper functions"
   ]
  },
  {
   "cell_type": "code",
   "execution_count": 10,
   "metadata": {},
   "outputs": [],
   "source": [
    "def benchmark(sampling_type,X,y):\n",
    "    lr = LogisticRegression(max_iter=1000, solver='liblinear')\n",
    "    param_grid = {'C':[0.01,0.1,1,10,20]}\n",
    "    gs = GridSearchCV(estimator=lr, param_grid=param_grid, scoring='accuracy', cv=5, verbose=2)\n",
    "    gs = gs.fit(X.values,y.values.ravel())\n",
    "    return sampling_type,gs.best_score_,gs.best_params_['C']\n",
    "\n",
    "def transform(transformer,X,y):\n",
    "    print(\"Transforming {}\".format(transformer.__class__.__name__))\n",
    "    X_resampled,y_resampled = transformer.fit_sample(X.values,y.values.ravel())\n",
    "    return transformer.__class__.__name__,pd.DataFrame(X_resampled), pd.DataFrame(y_resampled)"
   ]
  },
  {
   "cell_type": "markdown",
   "metadata": {},
   "source": [
    "### Apply transformations to dataset"
   ]
  },
  {
   "cell_type": "code",
   "execution_count": 11,
   "metadata": {},
   "outputs": [
    {
     "name": "stdout",
     "output_type": "stream",
     "text": [
      "Transforming SMOTE\n",
      "Transforming RandomOverSampler\n",
      "Transforming NearMiss\n",
      "Transforming RandomUnderSampler\n"
     ]
    }
   ],
   "source": [
    "datasets = []\n",
    "\n",
    "datasets.append((\"base\",X_train,y_train))\n",
    "datasets.append(transform(SMOTE(n_jobs=-1),X_train,y_train))\n",
    "datasets.append(transform(RandomOverSampler(),X_train,y_train))\n",
    "#datasets.append(transform(ClusterCentroids(n_jobs=-1),X_train,y_train))\n",
    "datasets.append(transform(NearMiss(n_jobs=-1),X_train,y_train))\n",
    "datasets.append(transform(RandomUnderSampler(),X_train,y_train))\n",
    "#datasets.append(transform(SMOTEENN(),X_train,y_train))\n",
    "#datasets.append(transform(SMOTETomek(),X_train,y_train))"
   ]
  },
  {
   "cell_type": "markdown",
   "metadata": {},
   "source": [
    "### Determine best hyperparameters"
   ]
  },
  {
   "cell_type": "code",
   "execution_count": 12,
   "metadata": {
    "scrolled": false
   },
   "outputs": [
    {
     "name": "stdout",
     "output_type": "stream",
     "text": [
      "______________________________________________________________\n",
      "base\n",
      "Fitting 5 folds for each of 5 candidates, totalling 25 fits\n",
      "[CV] C=0.01 ..........................................................\n"
     ]
    },
    {
     "name": "stderr",
     "output_type": "stream",
     "text": [
      "[Parallel(n_jobs=1)]: Using backend SequentialBackend with 1 concurrent workers.\n"
     ]
    },
    {
     "name": "stdout",
     "output_type": "stream",
     "text": [
      "[CV] ........................................... C=0.01, total=   0.4s\n",
      "[CV] C=0.01 ..........................................................\n"
     ]
    },
    {
     "name": "stderr",
     "output_type": "stream",
     "text": [
      "[Parallel(n_jobs=1)]: Done   1 out of   1 | elapsed:    0.3s remaining:    0.0s\n"
     ]
    },
    {
     "name": "stdout",
     "output_type": "stream",
     "text": [
      "[CV] ........................................... C=0.01, total=   0.4s\n",
      "[CV] C=0.01 ..........................................................\n",
      "[CV] ........................................... C=0.01, total=   0.4s\n",
      "[CV] C=0.01 ..........................................................\n",
      "[CV] ........................................... C=0.01, total=   0.4s\n",
      "[CV] C=0.01 ..........................................................\n",
      "[CV] ........................................... C=0.01, total=   0.4s\n",
      "[CV] C=0.1 ...........................................................\n",
      "[CV] ............................................ C=0.1, total=   0.7s\n",
      "[CV] C=0.1 ...........................................................\n",
      "[CV] ............................................ C=0.1, total=   0.6s\n",
      "[CV] C=0.1 ...........................................................\n",
      "[CV] ............................................ C=0.1, total=   0.7s\n",
      "[CV] C=0.1 ...........................................................\n",
      "[CV] ............................................ C=0.1, total=   0.7s\n",
      "[CV] C=0.1 ...........................................................\n",
      "[CV] ............................................ C=0.1, total=   0.7s\n",
      "[CV] C=1 .............................................................\n",
      "[CV] .............................................. C=1, total=   1.1s\n",
      "[CV] C=1 .............................................................\n",
      "[CV] .............................................. C=1, total=   0.9s\n",
      "[CV] C=1 .............................................................\n",
      "[CV] .............................................. C=1, total=   0.9s\n",
      "[CV] C=1 .............................................................\n",
      "[CV] .............................................. C=1, total=   1.0s\n",
      "[CV] C=1 .............................................................\n",
      "[CV] .............................................. C=1, total=   0.8s\n",
      "[CV] C=10 ............................................................\n",
      "[CV] ............................................. C=10, total=   1.3s\n",
      "[CV] C=10 ............................................................\n",
      "[CV] ............................................. C=10, total=   1.6s\n",
      "[CV] C=10 ............................................................\n",
      "[CV] ............................................. C=10, total=   1.5s\n",
      "[CV] C=10 ............................................................\n",
      "[CV] ............................................. C=10, total=   1.6s\n",
      "[CV] C=10 ............................................................\n",
      "[CV] ............................................. C=10, total=   1.6s\n",
      "[CV] C=20 ............................................................\n",
      "[CV] ............................................. C=20, total=   2.0s\n",
      "[CV] C=20 ............................................................\n",
      "[CV] ............................................. C=20, total=   1.8s\n",
      "[CV] C=20 ............................................................\n",
      "[CV] ............................................. C=20, total=   2.1s\n",
      "[CV] C=20 ............................................................\n",
      "[CV] ............................................. C=20, total=   1.8s\n",
      "[CV] C=20 ............................................................\n",
      "[CV] ............................................. C=20, total=   1.7s\n"
     ]
    },
    {
     "name": "stderr",
     "output_type": "stream",
     "text": [
      "[Parallel(n_jobs=1)]: Done  25 out of  25 | elapsed:   27.4s finished\n"
     ]
    },
    {
     "name": "stdout",
     "output_type": "stream",
     "text": [
      "______________________________________________________________\n",
      "______________________________________________________________\n",
      "SMOTE\n",
      "Fitting 5 folds for each of 5 candidates, totalling 25 fits\n",
      "[CV] C=0.01 ..........................................................\n"
     ]
    },
    {
     "name": "stderr",
     "output_type": "stream",
     "text": [
      "[Parallel(n_jobs=1)]: Using backend SequentialBackend with 1 concurrent workers.\n"
     ]
    },
    {
     "name": "stdout",
     "output_type": "stream",
     "text": [
      "[CV] ........................................... C=0.01, total=   0.6s\n",
      "[CV] C=0.01 ..........................................................\n"
     ]
    },
    {
     "name": "stderr",
     "output_type": "stream",
     "text": [
      "[Parallel(n_jobs=1)]: Done   1 out of   1 | elapsed:    0.5s remaining:    0.0s\n"
     ]
    },
    {
     "name": "stdout",
     "output_type": "stream",
     "text": [
      "[CV] ........................................... C=0.01, total=   0.8s\n",
      "[CV] C=0.01 ..........................................................\n",
      "[CV] ........................................... C=0.01, total=   0.7s\n",
      "[CV] C=0.01 ..........................................................\n",
      "[CV] ........................................... C=0.01, total=   0.7s\n",
      "[CV] C=0.01 ..........................................................\n",
      "[CV] ........................................... C=0.01, total=   0.8s\n",
      "[CV] C=0.1 ...........................................................\n",
      "[CV] ............................................ C=0.1, total=   0.8s\n",
      "[CV] C=0.1 ...........................................................\n",
      "[CV] ............................................ C=0.1, total=   1.1s\n",
      "[CV] C=0.1 ...........................................................\n",
      "[CV] ............................................ C=0.1, total=   1.1s\n",
      "[CV] C=0.1 ...........................................................\n",
      "[CV] ............................................ C=0.1, total=   1.2s\n",
      "[CV] C=0.1 ...........................................................\n",
      "[CV] ............................................ C=0.1, total=   1.2s\n",
      "[CV] C=1 .............................................................\n",
      "[CV] .............................................. C=1, total=   1.2s\n",
      "[CV] C=1 .............................................................\n",
      "[CV] .............................................. C=1, total=   2.1s\n",
      "[CV] C=1 .............................................................\n",
      "[CV] .............................................. C=1, total=   1.9s\n",
      "[CV] C=1 .............................................................\n",
      "[CV] .............................................. C=1, total=   2.1s\n",
      "[CV] C=1 .............................................................\n",
      "[CV] .............................................. C=1, total=   1.8s\n",
      "[CV] C=10 ............................................................\n",
      "[CV] ............................................. C=10, total=   1.6s\n",
      "[CV] C=10 ............................................................\n",
      "[CV] ............................................. C=10, total=   5.1s\n",
      "[CV] C=10 ............................................................\n",
      "[CV] ............................................. C=10, total=   3.9s\n",
      "[CV] C=10 ............................................................\n",
      "[CV] ............................................. C=10, total=   5.3s\n",
      "[CV] C=10 ............................................................\n",
      "[CV] ............................................. C=10, total=   3.8s\n",
      "[CV] C=20 ............................................................\n",
      "[CV] ............................................. C=20, total=   2.1s\n",
      "[CV] C=20 ............................................................\n",
      "[CV] ............................................. C=20, total=   3.8s\n",
      "[CV] C=20 ............................................................\n",
      "[CV] ............................................. C=20, total=   5.1s\n",
      "[CV] C=20 ............................................................\n",
      "[CV] ............................................. C=20, total=   5.6s\n",
      "[CV] C=20 ............................................................\n",
      "[CV] ............................................. C=20, total=   4.3s\n"
     ]
    },
    {
     "name": "stderr",
     "output_type": "stream",
     "text": [
      "[Parallel(n_jobs=1)]: Done  25 out of  25 | elapsed:   58.9s finished\n"
     ]
    },
    {
     "name": "stdout",
     "output_type": "stream",
     "text": [
      "______________________________________________________________\n",
      "______________________________________________________________\n",
      "RandomOverSampler\n",
      "Fitting 5 folds for each of 5 candidates, totalling 25 fits\n",
      "[CV] C=0.01 ..........................................................\n"
     ]
    },
    {
     "name": "stderr",
     "output_type": "stream",
     "text": [
      "[Parallel(n_jobs=1)]: Using backend SequentialBackend with 1 concurrent workers.\n"
     ]
    },
    {
     "name": "stdout",
     "output_type": "stream",
     "text": [
      "[CV] ........................................... C=0.01, total=   0.9s\n",
      "[CV] C=0.01 ..........................................................\n"
     ]
    },
    {
     "name": "stderr",
     "output_type": "stream",
     "text": [
      "[Parallel(n_jobs=1)]: Done   1 out of   1 | elapsed:    0.8s remaining:    0.0s\n"
     ]
    },
    {
     "name": "stdout",
     "output_type": "stream",
     "text": [
      "[CV] ........................................... C=0.01, total=   0.9s\n",
      "[CV] C=0.01 ..........................................................\n",
      "[CV] ........................................... C=0.01, total=   0.9s\n",
      "[CV] C=0.01 ..........................................................\n",
      "[CV] ........................................... C=0.01, total=   0.9s\n",
      "[CV] C=0.01 ..........................................................\n",
      "[CV] ........................................... C=0.01, total=   0.9s\n",
      "[CV] C=0.1 ...........................................................\n",
      "[CV] ............................................ C=0.1, total=   1.5s\n",
      "[CV] C=0.1 ...........................................................\n",
      "[CV] ............................................ C=0.1, total=   1.3s\n",
      "[CV] C=0.1 ...........................................................\n",
      "[CV] ............................................ C=0.1, total=   1.4s\n",
      "[CV] C=0.1 ...........................................................\n",
      "[CV] ............................................ C=0.1, total=   1.7s\n",
      "[CV] C=0.1 ...........................................................\n",
      "[CV] ............................................ C=0.1, total=   1.7s\n",
      "[CV] C=1 .............................................................\n",
      "[CV] .............................................. C=1, total=   2.8s\n",
      "[CV] C=1 .............................................................\n",
      "[CV] .............................................. C=1, total=   3.0s\n",
      "[CV] C=1 .............................................................\n",
      "[CV] .............................................. C=1, total=   3.0s\n",
      "[CV] C=1 .............................................................\n",
      "[CV] .............................................. C=1, total=   2.7s\n",
      "[CV] C=1 .............................................................\n",
      "[CV] .............................................. C=1, total=   2.6s\n",
      "[CV] C=10 ............................................................\n",
      "[CV] ............................................. C=10, total=   5.1s\n",
      "[CV] C=10 ............................................................\n",
      "[CV] ............................................. C=10, total=   6.0s\n",
      "[CV] C=10 ............................................................\n",
      "[CV] ............................................. C=10, total=   5.3s\n",
      "[CV] C=10 ............................................................\n",
      "[CV] ............................................. C=10, total=   4.8s\n",
      "[CV] C=10 ............................................................\n",
      "[CV] ............................................. C=10, total=   6.9s\n",
      "[CV] C=20 ............................................................\n",
      "[CV] ............................................. C=20, total=   5.5s\n",
      "[CV] C=20 ............................................................\n",
      "[CV] ............................................. C=20, total=   5.5s\n",
      "[CV] C=20 ............................................................\n",
      "[CV] ............................................. C=20, total=   7.3s\n",
      "[CV] C=20 ............................................................\n",
      "[CV] ............................................. C=20, total=   6.7s\n",
      "[CV] C=20 ............................................................\n",
      "[CV] ............................................. C=20, total=   6.5s\n"
     ]
    },
    {
     "name": "stderr",
     "output_type": "stream",
     "text": [
      "[Parallel(n_jobs=1)]: Done  25 out of  25 | elapsed:  1.4min finished\n"
     ]
    },
    {
     "name": "stdout",
     "output_type": "stream",
     "text": [
      "______________________________________________________________\n",
      "______________________________________________________________\n",
      "NearMiss\n",
      "Fitting 5 folds for each of 5 candidates, totalling 25 fits\n",
      "[CV] C=0.01 ..........................................................\n",
      "[CV] ........................................... C=0.01, total=   0.0s\n",
      "[CV] C=0.01 ..........................................................\n",
      "[CV] ........................................... C=0.01, total=   0.1s\n",
      "[CV] C=0.01 ..........................................................\n",
      "[CV] ........................................... C=0.01, total=   0.1s\n",
      "[CV] C=0.01 ..........................................................\n"
     ]
    },
    {
     "name": "stderr",
     "output_type": "stream",
     "text": [
      "[Parallel(n_jobs=1)]: Using backend SequentialBackend with 1 concurrent workers.\n",
      "[Parallel(n_jobs=1)]: Done   1 out of   1 | elapsed:    0.0s remaining:    0.0s\n"
     ]
    },
    {
     "name": "stdout",
     "output_type": "stream",
     "text": [
      "[CV] ........................................... C=0.01, total=   0.1s\n",
      "[CV] C=0.01 ..........................................................\n",
      "[CV] ........................................... C=0.01, total=   0.1s\n",
      "[CV] C=0.1 ...........................................................\n",
      "[CV] ............................................ C=0.1, total=   0.0s\n",
      "[CV] C=0.1 ...........................................................\n",
      "[CV] ............................................ C=0.1, total=   0.0s\n",
      "[CV] C=0.1 ...........................................................\n",
      "[CV] ............................................ C=0.1, total=   0.1s\n",
      "[CV] C=0.1 ...........................................................\n",
      "[CV] ............................................ C=0.1, total=   0.1s\n",
      "[CV] C=0.1 ...........................................................\n",
      "[CV] ............................................ C=0.1, total=   0.0s\n",
      "[CV] C=1 .............................................................\n",
      "[CV] .............................................. C=1, total=   0.1s\n",
      "[CV] C=1 .............................................................\n",
      "[CV] .............................................. C=1, total=   0.1s\n",
      "[CV] C=1 .............................................................\n",
      "[CV] .............................................. C=1, total=   0.1s\n",
      "[CV] C=1 .............................................................\n",
      "[CV] .............................................. C=1, total=   0.1s\n",
      "[CV] C=1 .............................................................\n",
      "[CV] .............................................. C=1, total=   0.1s\n",
      "[CV] C=10 ............................................................\n",
      "[CV] ............................................. C=10, total=   0.2s\n",
      "[CV] C=10 ............................................................\n",
      "[CV] ............................................. C=10, total=   0.1s\n",
      "[CV] C=10 ............................................................\n",
      "[CV] ............................................. C=10, total=   0.2s\n",
      "[CV] C=10 ............................................................\n",
      "[CV] ............................................. C=10, total=   0.1s\n",
      "[CV] C=10 ............................................................\n",
      "[CV] ............................................. C=10, total=   0.1s\n",
      "[CV] C=20 ............................................................\n",
      "[CV] ............................................. C=20, total=   0.1s\n",
      "[CV] C=20 ............................................................\n",
      "[CV] ............................................. C=20, total=   0.1s\n",
      "[CV] C=20 ............................................................\n",
      "[CV] ............................................. C=20, total=   0.1s\n",
      "[CV] C=20 ............................................................\n",
      "[CV] ............................................. C=20, total=   0.2s\n",
      "[CV] C=20 ............................................................\n",
      "[CV] ............................................. C=20, total=   0.1s\n"
     ]
    },
    {
     "name": "stderr",
     "output_type": "stream",
     "text": [
      "[Parallel(n_jobs=1)]: Done  25 out of  25 | elapsed:    2.4s finished\n"
     ]
    },
    {
     "name": "stdout",
     "output_type": "stream",
     "text": [
      "______________________________________________________________\n",
      "______________________________________________________________\n",
      "RandomUnderSampler\n",
      "Fitting 5 folds for each of 5 candidates, totalling 25 fits\n",
      "[CV] C=0.01 ..........................................................\n",
      "[CV] ........................................... C=0.01, total=   0.1s\n",
      "[CV] C=0.01 ..........................................................\n",
      "[CV] ........................................... C=0.01, total=   0.0s\n",
      "[CV] C=0.01 ..........................................................\n",
      "[CV] ........................................... C=0.01, total=   0.0s\n",
      "[CV] C=0.01 ..........................................................\n"
     ]
    },
    {
     "name": "stderr",
     "output_type": "stream",
     "text": [
      "[Parallel(n_jobs=1)]: Using backend SequentialBackend with 1 concurrent workers.\n",
      "[Parallel(n_jobs=1)]: Done   1 out of   1 | elapsed:    0.0s remaining:    0.0s\n"
     ]
    },
    {
     "name": "stdout",
     "output_type": "stream",
     "text": [
      "[CV] ........................................... C=0.01, total=   0.0s\n",
      "[CV] C=0.01 ..........................................................\n",
      "[CV] ........................................... C=0.01, total=   0.0s\n",
      "[CV] C=0.1 ...........................................................\n",
      "[CV] ............................................ C=0.1, total=   0.1s\n",
      "[CV] C=0.1 ...........................................................\n",
      "[CV] ............................................ C=0.1, total=   0.1s\n",
      "[CV] C=0.1 ...........................................................\n",
      "[CV] ............................................ C=0.1, total=   0.1s\n",
      "[CV] C=0.1 ...........................................................\n",
      "[CV] ............................................ C=0.1, total=   0.1s\n",
      "[CV] C=0.1 ...........................................................\n",
      "[CV] ............................................ C=0.1, total=   0.1s\n",
      "[CV] C=1 .............................................................\n",
      "[CV] .............................................. C=1, total=   0.1s\n",
      "[CV] C=1 .............................................................\n",
      "[CV] .............................................. C=1, total=   0.1s\n",
      "[CV] C=1 .............................................................\n",
      "[CV] .............................................. C=1, total=   0.1s\n",
      "[CV] C=1 .............................................................\n",
      "[CV] .............................................. C=1, total=   0.1s\n",
      "[CV] C=1 .............................................................\n",
      "[CV] .............................................. C=1, total=   0.1s\n",
      "[CV] C=10 ............................................................\n",
      "[CV] ............................................. C=10, total=   0.2s\n",
      "[CV] C=10 ............................................................\n",
      "[CV] ............................................. C=10, total=   0.2s\n",
      "[CV] C=10 ............................................................\n",
      "[CV] ............................................. C=10, total=   0.3s\n",
      "[CV] C=10 ............................................................\n",
      "[CV] ............................................. C=10, total=   0.3s\n",
      "[CV] C=10 ............................................................\n",
      "[CV] ............................................. C=10, total=   0.2s\n",
      "[CV] C=20 ............................................................\n",
      "[CV] ............................................. C=20, total=   0.3s\n",
      "[CV] C=20 ............................................................\n",
      "[CV] ............................................. C=20, total=   0.3s\n",
      "[CV] C=20 ............................................................\n",
      "[CV] ............................................. C=20, total=   0.2s\n",
      "[CV] C=20 ............................................................\n",
      "[CV] ............................................. C=20, total=   0.3s\n",
      "[CV] C=20 ............................................................\n",
      "[CV] ............................................. C=20, total=   0.2s\n",
      "______________________________________________________________"
     ]
    },
    {
     "name": "stderr",
     "output_type": "stream",
     "text": [
      "[Parallel(n_jobs=1)]: Done  25 out of  25 | elapsed:    3.6s finished\n"
     ]
    },
    {
     "name": "stdout",
     "output_type": "stream",
     "text": [
      "\n"
     ]
    }
   ],
   "source": [
    "benchmark_scores = []\n",
    "for sample_type,X,y in datasets:\n",
    "    print('______________________________________________________________')\n",
    "    print('{}'.format(sample_type))\n",
    "    benchmark_scores.append(benchmark(sample_type,X,y))\n",
    "    print('______________________________________________________________')"
   ]
  },
  {
   "cell_type": "code",
   "execution_count": 13,
   "metadata": {},
   "outputs": [
    {
     "data": {
      "text/plain": [
       "[('base', 0.9099057795755972, 0.01),\n",
       " ('SMOTE', 0.9295345085163481, 0.1),\n",
       " ('RandomOverSampler', 0.6120687837312541, 0.01),\n",
       " ('NearMiss', 0.8252707385861024, 20),\n",
       " ('RandomUnderSampler', 0.606180936423524, 1)]"
      ]
     },
     "execution_count": 13,
     "metadata": {},
     "output_type": "execute_result"
    }
   ],
   "source": [
    "benchmark_scores"
   ]
  },
  {
   "cell_type": "code",
   "execution_count": 14,
   "metadata": {},
   "outputs": [
    {
     "name": "stdout",
     "output_type": "stream",
     "text": [
      "Training on base\n",
      "Training on SMOTE\n",
      "Training on RandomOverSampler\n",
      "Training on NearMiss\n",
      "Training on RandomUnderSampler\n"
     ]
    }
   ],
   "source": [
    "scores = []\n",
    "fpr_tpr = []\n",
    "\n",
    "# train models based on benchmark params\n",
    "for sampling_type,score,param in benchmark_scores:\n",
    "    print(\"Training on {}\".format(sampling_type))\n",
    "    lr = LogisticRegression(solver='liblinear', C=param)\n",
    "    for s_type, X, y in datasets:\n",
    "        if s_type == sampling_type:\n",
    "            lr.fit(X.values,y.values.ravel())\n",
    "            pred_test = lr.predict(X_test.values)\n",
    "            #pred_test_probs = lr.predict_proba(X_test.values)\n",
    "            #probs = lr.decision_function(X_test.values)\n",
    "            y_test_scores = lr.decision_function(X_test.values)\n",
    "            fpr, tpr, thresholds = roc_curve(y_test, y_test_scores)\n",
    "            #p,r,t = precision_recall_curve(y_test.values.ravel(),probs)\n",
    "            fpr_tpr.append((sampling_type, fpr, tpr))\n",
    "            scores.append((sampling_type,\n",
    "                           f1_score(y_test.values.ravel(),pred_test),\n",
    "                           precision_score(y_test.values.ravel(),pred_test),\n",
    "                           recall_score(y_test.values.ravel(),pred_test),\n",
    "                           accuracy_score(y_test.values.ravel(),pred_test),\n",
    "                           roc_auc_score(y_test, y_test_scores),\n",
    "                           confusion_matrix(y_test.values.ravel(),pred_test)))"
   ]
  },
  {
   "cell_type": "code",
   "execution_count": 15,
   "metadata": {},
   "outputs": [
    {
     "data": {
      "text/html": [
       "<div>\n",
       "<style scoped>\n",
       "    .dataframe tbody tr th:only-of-type {\n",
       "        vertical-align: middle;\n",
       "    }\n",
       "\n",
       "    .dataframe tbody tr th {\n",
       "        vertical-align: top;\n",
       "    }\n",
       "\n",
       "    .dataframe thead th {\n",
       "        text-align: right;\n",
       "    }\n",
       "</style>\n",
       "<table border=\"1\" class=\"dataframe\">\n",
       "  <thead>\n",
       "    <tr style=\"text-align: right;\">\n",
       "      <th></th>\n",
       "      <th>Sampling Type</th>\n",
       "      <th>fpr</th>\n",
       "      <th>tpr</th>\n",
       "    </tr>\n",
       "  </thead>\n",
       "  <tbody>\n",
       "    <tr>\n",
       "      <th>0</th>\n",
       "      <td>base</td>\n",
       "      <td>[0.0, 0.0, 0.00016159004605316313, 0.000161590...</td>\n",
       "      <td>[0.0, 0.0008103727714748784, 0.000810372771474...</td>\n",
       "    </tr>\n",
       "    <tr>\n",
       "      <th>1</th>\n",
       "      <td>SMOTE</td>\n",
       "      <td>[0.0, 8.079502302658157e-05, 0.000484770138159...</td>\n",
       "      <td>[0.0, 0.0, 0.0, 0.0008103727714748784, 0.00081...</td>\n",
       "    </tr>\n",
       "    <tr>\n",
       "      <th>2</th>\n",
       "      <td>RandomOverSampler</td>\n",
       "      <td>[0.0, 0.0, 0.00016159004605316313, 0.000161590...</td>\n",
       "      <td>[0.0, 0.0008103727714748784, 0.000810372771474...</td>\n",
       "    </tr>\n",
       "    <tr>\n",
       "      <th>3</th>\n",
       "      <td>NearMiss</td>\n",
       "      <td>[0.0, 8.079502302658157e-05, 0.000565565161186...</td>\n",
       "      <td>[0.0, 0.0, 0.0, 0.0008103727714748784, 0.00081...</td>\n",
       "    </tr>\n",
       "    <tr>\n",
       "      <th>4</th>\n",
       "      <td>RandomUnderSampler</td>\n",
       "      <td>[0.0, 0.0, 0.00016159004605316313, 0.000161590...</td>\n",
       "      <td>[0.0, 0.0008103727714748784, 0.000810372771474...</td>\n",
       "    </tr>\n",
       "  </tbody>\n",
       "</table>\n",
       "</div>"
      ],
      "text/plain": [
       "        Sampling Type                                                fpr  \\\n",
       "0                base  [0.0, 0.0, 0.00016159004605316313, 0.000161590...   \n",
       "1               SMOTE  [0.0, 8.079502302658157e-05, 0.000484770138159...   \n",
       "2   RandomOverSampler  [0.0, 0.0, 0.00016159004605316313, 0.000161590...   \n",
       "3            NearMiss  [0.0, 8.079502302658157e-05, 0.000565565161186...   \n",
       "4  RandomUnderSampler  [0.0, 0.0, 0.00016159004605316313, 0.000161590...   \n",
       "\n",
       "                                                 tpr  \n",
       "0  [0.0, 0.0008103727714748784, 0.000810372771474...  \n",
       "1  [0.0, 0.0, 0.0, 0.0008103727714748784, 0.00081...  \n",
       "2  [0.0, 0.0008103727714748784, 0.000810372771474...  \n",
       "3  [0.0, 0.0, 0.0, 0.0008103727714748784, 0.00081...  \n",
       "4  [0.0, 0.0008103727714748784, 0.000810372771474...  "
      ]
     },
     "execution_count": 15,
     "metadata": {},
     "output_type": "execute_result"
    }
   ],
   "source": [
    "fpr_tpr_results = pd.DataFrame(fpr_tpr,columns=['Sampling Type','fpr','tpr'])\n",
    "fpr_tpr_results"
   ]
  },
  {
   "cell_type": "code",
   "execution_count": 16,
   "metadata": {
    "scrolled": true
   },
   "outputs": [
    {
     "data": {
      "text/html": [
       "<div>\n",
       "<style scoped>\n",
       "    .dataframe tbody tr th:only-of-type {\n",
       "        vertical-align: middle;\n",
       "    }\n",
       "\n",
       "    .dataframe tbody tr th {\n",
       "        vertical-align: top;\n",
       "    }\n",
       "\n",
       "    .dataframe thead th {\n",
       "        text-align: right;\n",
       "    }\n",
       "</style>\n",
       "<table border=\"1\" class=\"dataframe\">\n",
       "  <thead>\n",
       "    <tr style=\"text-align: right;\">\n",
       "      <th></th>\n",
       "      <th>Sampling Type</th>\n",
       "      <th>f1</th>\n",
       "      <th>precision</th>\n",
       "      <th>recall</th>\n",
       "      <th>accuracy</th>\n",
       "      <th>auc</th>\n",
       "      <th>confusion_matrix</th>\n",
       "    </tr>\n",
       "  </thead>\n",
       "  <tbody>\n",
       "    <tr>\n",
       "      <th>0</th>\n",
       "      <td>base</td>\n",
       "      <td>0.004835</td>\n",
       "      <td>0.428571</td>\n",
       "      <td>0.002431</td>\n",
       "      <td>0.909265</td>\n",
       "      <td>0.641311</td>\n",
       "      <td>[[12373, 4], [1231, 3]]</td>\n",
       "    </tr>\n",
       "    <tr>\n",
       "      <th>1</th>\n",
       "      <td>SMOTE</td>\n",
       "      <td>0.054795</td>\n",
       "      <td>0.140468</td>\n",
       "      <td>0.034036</td>\n",
       "      <td>0.893542</td>\n",
       "      <td>0.556691</td>\n",
       "      <td>[[12120, 257], [1192, 42]]</td>\n",
       "    </tr>\n",
       "    <tr>\n",
       "      <th>2</th>\n",
       "      <td>RandomOverSampler</td>\n",
       "      <td>0.223753</td>\n",
       "      <td>0.141132</td>\n",
       "      <td>0.539708</td>\n",
       "      <td>0.660495</td>\n",
       "      <td>0.645297</td>\n",
       "      <td>[[8324, 4053], [568, 666]]</td>\n",
       "    </tr>\n",
       "    <tr>\n",
       "      <th>3</th>\n",
       "      <td>NearMiss</td>\n",
       "      <td>0.179991</td>\n",
       "      <td>0.101431</td>\n",
       "      <td>0.798217</td>\n",
       "      <td>0.340607</td>\n",
       "      <td>0.574133</td>\n",
       "      <td>[[3651, 8726], [249, 985]]</td>\n",
       "    </tr>\n",
       "    <tr>\n",
       "      <th>4</th>\n",
       "      <td>RandomUnderSampler</td>\n",
       "      <td>0.219192</td>\n",
       "      <td>0.137895</td>\n",
       "      <td>0.534036</td>\n",
       "      <td>0.655058</td>\n",
       "      <td>0.643375</td>\n",
       "      <td>[[8257, 4120], [575, 659]]</td>\n",
       "    </tr>\n",
       "  </tbody>\n",
       "</table>\n",
       "</div>"
      ],
      "text/plain": [
       "        Sampling Type        f1  precision    recall  accuracy       auc  \\\n",
       "0                base  0.004835   0.428571  0.002431  0.909265  0.641311   \n",
       "1               SMOTE  0.054795   0.140468  0.034036  0.893542  0.556691   \n",
       "2   RandomOverSampler  0.223753   0.141132  0.539708  0.660495  0.645297   \n",
       "3            NearMiss  0.179991   0.101431  0.798217  0.340607  0.574133   \n",
       "4  RandomUnderSampler  0.219192   0.137895  0.534036  0.655058  0.643375   \n",
       "\n",
       "             confusion_matrix  \n",
       "0     [[12373, 4], [1231, 3]]  \n",
       "1  [[12120, 257], [1192, 42]]  \n",
       "2  [[8324, 4053], [568, 666]]  \n",
       "3  [[3651, 8726], [249, 985]]  \n",
       "4  [[8257, 4120], [575, 659]]  "
      ]
     },
     "execution_count": 16,
     "metadata": {},
     "output_type": "execute_result"
    }
   ],
   "source": [
    "sampling_results = pd.DataFrame(scores,columns=['Sampling Type','f1','precision','recall','accuracy','auc','confusion_matrix'])\n",
    "sampling_results"
   ]
  },
  {
   "cell_type": "code",
   "execution_count": 17,
   "metadata": {},
   "outputs": [],
   "source": [
    "lr = LogisticRegression(solver='liblinear', class_weight=\"balanced\")\n",
    "lr.fit(X_train.values,y_train.values.ravel())\n",
    "scores = []\n",
    "fpr_tpr = []\n",
    "pred_test = lr.predict(X_test.values)\n",
    "#pred_test_probs = lr.predict_proba(X_test.values)\n",
    "#probs = lr.decision_function(X_test.values)\n",
    "y_test_scores = lr.decision_function(X_test.values)\n",
    "fpr, tpr, thresholds = roc_curve(y_test, y_test_scores)\n",
    "fpr_tpr.append((\"weighted_base\", fpr, tpr))\n",
    "scores.append((\"weighted_base\",\n",
    "                           f1_score(y_test.values.ravel(),pred_test),\n",
    "                           precision_score(y_test.values.ravel(),pred_test),\n",
    "                           recall_score(y_test.values.ravel(),pred_test),\n",
    "                           accuracy_score(y_test.values.ravel(),pred_test),\n",
    "                           roc_auc_score(y_test, y_test_scores),\n",
    "                           confusion_matrix(y_test.values.ravel(),pred_test)))\n",
    "\n",
    "fpr_tpr = pd.DataFrame(fpr_tpr,columns=['Sampling Type','fpr','tpr'])\n",
    "scores = pd.DataFrame(scores,columns=['Sampling Type','f1','precision','recall','accuracy','auc','confusion_matrix'])"
   ]
  },
  {
   "cell_type": "code",
   "execution_count": 19,
   "metadata": {
    "scrolled": true
   },
   "outputs": [
    {
     "data": {
      "text/html": [
       "<div>\n",
       "<style scoped>\n",
       "    .dataframe tbody tr th:only-of-type {\n",
       "        vertical-align: middle;\n",
       "    }\n",
       "\n",
       "    .dataframe tbody tr th {\n",
       "        vertical-align: top;\n",
       "    }\n",
       "\n",
       "    .dataframe thead th {\n",
       "        text-align: right;\n",
       "    }\n",
       "</style>\n",
       "<table border=\"1\" class=\"dataframe\">\n",
       "  <thead>\n",
       "    <tr style=\"text-align: right;\">\n",
       "      <th></th>\n",
       "      <th>Sampling Type</th>\n",
       "      <th>fpr</th>\n",
       "      <th>tpr</th>\n",
       "    </tr>\n",
       "  </thead>\n",
       "  <tbody>\n",
       "    <tr>\n",
       "      <th>0</th>\n",
       "      <td>base</td>\n",
       "      <td>[0.0, 0.0, 0.00016159004605316313, 0.000161590...</td>\n",
       "      <td>[0.0, 0.0008103727714748784, 0.000810372771474...</td>\n",
       "    </tr>\n",
       "    <tr>\n",
       "      <th>1</th>\n",
       "      <td>SMOTE</td>\n",
       "      <td>[0.0, 8.079502302658157e-05, 0.000484770138159...</td>\n",
       "      <td>[0.0, 0.0, 0.0, 0.0008103727714748784, 0.00081...</td>\n",
       "    </tr>\n",
       "    <tr>\n",
       "      <th>2</th>\n",
       "      <td>RandomOverSampler</td>\n",
       "      <td>[0.0, 0.0, 0.00016159004605316313, 0.000161590...</td>\n",
       "      <td>[0.0, 0.0008103727714748784, 0.000810372771474...</td>\n",
       "    </tr>\n",
       "    <tr>\n",
       "      <th>3</th>\n",
       "      <td>NearMiss</td>\n",
       "      <td>[0.0, 8.079502302658157e-05, 0.000565565161186...</td>\n",
       "      <td>[0.0, 0.0, 0.0, 0.0008103727714748784, 0.00081...</td>\n",
       "    </tr>\n",
       "    <tr>\n",
       "      <th>4</th>\n",
       "      <td>RandomUnderSampler</td>\n",
       "      <td>[0.0, 0.0, 0.00016159004605316313, 0.000161590...</td>\n",
       "      <td>[0.0, 0.0008103727714748784, 0.000810372771474...</td>\n",
       "    </tr>\n",
       "    <tr>\n",
       "      <th>0</th>\n",
       "      <td>weighted_base</td>\n",
       "      <td>[0.0, 0.0, 0.00016159004605316313, 0.000161590...</td>\n",
       "      <td>[0.0, 0.0008103727714748784, 0.000810372771474...</td>\n",
       "    </tr>\n",
       "  </tbody>\n",
       "</table>\n",
       "</div>"
      ],
      "text/plain": [
       "        Sampling Type                                                fpr  \\\n",
       "0                base  [0.0, 0.0, 0.00016159004605316313, 0.000161590...   \n",
       "1               SMOTE  [0.0, 8.079502302658157e-05, 0.000484770138159...   \n",
       "2   RandomOverSampler  [0.0, 0.0, 0.00016159004605316313, 0.000161590...   \n",
       "3            NearMiss  [0.0, 8.079502302658157e-05, 0.000565565161186...   \n",
       "4  RandomUnderSampler  [0.0, 0.0, 0.00016159004605316313, 0.000161590...   \n",
       "0       weighted_base  [0.0, 0.0, 0.00016159004605316313, 0.000161590...   \n",
       "\n",
       "                                                 tpr  \n",
       "0  [0.0, 0.0008103727714748784, 0.000810372771474...  \n",
       "1  [0.0, 0.0, 0.0, 0.0008103727714748784, 0.00081...  \n",
       "2  [0.0, 0.0008103727714748784, 0.000810372771474...  \n",
       "3  [0.0, 0.0, 0.0, 0.0008103727714748784, 0.00081...  \n",
       "4  [0.0, 0.0008103727714748784, 0.000810372771474...  \n",
       "0  [0.0, 0.0008103727714748784, 0.000810372771474...  "
      ]
     },
     "execution_count": 19,
     "metadata": {},
     "output_type": "execute_result"
    }
   ],
   "source": [
    "fpr_tpr_results = fpr_tpr_results.append(fpr_tpr)\n",
    "fpr_tpr_results"
   ]
  },
  {
   "cell_type": "code",
   "execution_count": 20,
   "metadata": {},
   "outputs": [
    {
     "data": {
      "text/html": [
       "<div>\n",
       "<style scoped>\n",
       "    .dataframe tbody tr th:only-of-type {\n",
       "        vertical-align: middle;\n",
       "    }\n",
       "\n",
       "    .dataframe tbody tr th {\n",
       "        vertical-align: top;\n",
       "    }\n",
       "\n",
       "    .dataframe thead th {\n",
       "        text-align: right;\n",
       "    }\n",
       "</style>\n",
       "<table border=\"1\" class=\"dataframe\">\n",
       "  <thead>\n",
       "    <tr style=\"text-align: right;\">\n",
       "      <th></th>\n",
       "      <th>Sampling Type</th>\n",
       "      <th>f1</th>\n",
       "      <th>precision</th>\n",
       "      <th>recall</th>\n",
       "      <th>accuracy</th>\n",
       "      <th>auc</th>\n",
       "      <th>confusion_matrix</th>\n",
       "    </tr>\n",
       "  </thead>\n",
       "  <tbody>\n",
       "    <tr>\n",
       "      <th>0</th>\n",
       "      <td>base</td>\n",
       "      <td>0.004835</td>\n",
       "      <td>0.428571</td>\n",
       "      <td>0.002431</td>\n",
       "      <td>0.909265</td>\n",
       "      <td>0.641311</td>\n",
       "      <td>[[12373, 4], [1231, 3]]</td>\n",
       "    </tr>\n",
       "    <tr>\n",
       "      <th>1</th>\n",
       "      <td>SMOTE</td>\n",
       "      <td>0.054795</td>\n",
       "      <td>0.140468</td>\n",
       "      <td>0.034036</td>\n",
       "      <td>0.893542</td>\n",
       "      <td>0.556691</td>\n",
       "      <td>[[12120, 257], [1192, 42]]</td>\n",
       "    </tr>\n",
       "    <tr>\n",
       "      <th>2</th>\n",
       "      <td>RandomOverSampler</td>\n",
       "      <td>0.223753</td>\n",
       "      <td>0.141132</td>\n",
       "      <td>0.539708</td>\n",
       "      <td>0.660495</td>\n",
       "      <td>0.645297</td>\n",
       "      <td>[[8324, 4053], [568, 666]]</td>\n",
       "    </tr>\n",
       "    <tr>\n",
       "      <th>3</th>\n",
       "      <td>NearMiss</td>\n",
       "      <td>0.179991</td>\n",
       "      <td>0.101431</td>\n",
       "      <td>0.798217</td>\n",
       "      <td>0.340607</td>\n",
       "      <td>0.574133</td>\n",
       "      <td>[[3651, 8726], [249, 985]]</td>\n",
       "    </tr>\n",
       "    <tr>\n",
       "      <th>4</th>\n",
       "      <td>RandomUnderSampler</td>\n",
       "      <td>0.219192</td>\n",
       "      <td>0.137895</td>\n",
       "      <td>0.534036</td>\n",
       "      <td>0.655058</td>\n",
       "      <td>0.643375</td>\n",
       "      <td>[[8257, 4120], [575, 659]]</td>\n",
       "    </tr>\n",
       "    <tr>\n",
       "      <th>0</th>\n",
       "      <td>weighted_base</td>\n",
       "      <td>0.223698</td>\n",
       "      <td>0.141595</td>\n",
       "      <td>0.532415</td>\n",
       "      <td>0.664977</td>\n",
       "      <td>0.647808</td>\n",
       "      <td>[[8394, 3983], [577, 657]]</td>\n",
       "    </tr>\n",
       "  </tbody>\n",
       "</table>\n",
       "</div>"
      ],
      "text/plain": [
       "        Sampling Type        f1  precision    recall  accuracy       auc  \\\n",
       "0                base  0.004835   0.428571  0.002431  0.909265  0.641311   \n",
       "1               SMOTE  0.054795   0.140468  0.034036  0.893542  0.556691   \n",
       "2   RandomOverSampler  0.223753   0.141132  0.539708  0.660495  0.645297   \n",
       "3            NearMiss  0.179991   0.101431  0.798217  0.340607  0.574133   \n",
       "4  RandomUnderSampler  0.219192   0.137895  0.534036  0.655058  0.643375   \n",
       "0       weighted_base  0.223698   0.141595  0.532415  0.664977  0.647808   \n",
       "\n",
       "             confusion_matrix  \n",
       "0     [[12373, 4], [1231, 3]]  \n",
       "1  [[12120, 257], [1192, 42]]  \n",
       "2  [[8324, 4053], [568, 666]]  \n",
       "3  [[3651, 8726], [249, 985]]  \n",
       "4  [[8257, 4120], [575, 659]]  \n",
       "0  [[8394, 3983], [577, 657]]  "
      ]
     },
     "execution_count": 20,
     "metadata": {},
     "output_type": "execute_result"
    }
   ],
   "source": [
    "sampling_results = sampling_results.append(scores)\n",
    "sampling_results"
   ]
  },
  {
   "cell_type": "code",
   "execution_count": 21,
   "metadata": {},
   "outputs": [
    {
     "data": {
      "image/png": "[encoded data removed]",
      "text/plain": [
       "<Figure size 576x576 with 1 Axes>"
      ]
     },
     "metadata": {
      "needs_background": "light"
     },
     "output_type": "display_data"
    }
   ],
   "source": [
    "plt.figure(figsize=(8,8))\n",
    "\n",
    "for i in set(fpr_tpr_results['Sampling Type']):\n",
    "    plt.plot(fpr_tpr_results.fpr[fpr_tpr_results['Sampling Type'] == i].values[0], \n",
    "             fpr_tpr_results.tpr[fpr_tpr_results['Sampling Type'] == i].values[0], \n",
    "             label='{} ROC curve (area = {:.2f})'.format(i, sampling_results.auc[sampling_results['Sampling Type'] == i].values[0]),\n",
    "             linewidth = 2)\n",
    "\n",
    "plt.plot([0, 1], [0, 1], 'k--') # dashed diagonal\n",
    "plt.axis([0, 1, 0, 1])\n",
    "plt.xlabel('False Positive Rate')\n",
    "plt.ylabel('True Positive Rate')\n",
    "plt.title('ROC curve')\n",
    "plt.legend(loc='lower right')\n",
    "plt.show()"
   ]
  },
  {
   "cell_type": "code",
   "execution_count": null,
   "metadata": {},
   "outputs": [],
   "source": []
  }
 ],
 "metadata": {
  "kernelspec": {
   "display_name": "Python 3",
   "language": "python",
   "name": "python3"
  },
  "language_info": {
   "codemirror_mode": {
    "name": "ipython",
    "version": 3
   },
   "file_extension": ".py",
   "mimetype": "text/x-python",
   "name": "python",
   "nbconvert_exporter": "python",
   "pygments_lexer": "ipython3",
   "version": "3.7.5"
  }
 },
 "nbformat": 4,
 "nbformat_minor": 2
}
